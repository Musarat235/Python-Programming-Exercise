{
 "cells": [
  {
   "cell_type": "code",
   "execution_count": 206,
   "metadata": {},
   "outputs": [],
   "source": [
    "# Chapter 0 - You can define comments within the program and python will ignore them while executing.\n",
    "# to add a comment, simply put a # in start and remaining text in that line will be commented."
   ]
  },
  {
   "cell_type": "markdown",
   "metadata": {},
   "source": [
    "# Chapter - 1 - Print \n",
    "* Print command is used to display whatever is passed inside the parenthesis. \n",
    "* You can display a string, a number or any value stored in a variable or any calculation.\n",
    "* For strings, across the python, you need to enclose your string in \" \" or ' ' "
   ]
  },
  {
   "cell_type": "code",
   "execution_count": 207,
   "metadata": {},
   "outputs": [
    {
     "name": "stdout",
     "output_type": "stream",
     "text": [
      "Hello World\n"
     ]
    }
   ],
   "source": [
    "#Printing a string\n",
    "print(\"Hello World\")"
   ]
  },
  {
   "cell_type": "code",
   "execution_count": 208,
   "metadata": {},
   "outputs": [
    {
     "name": "stdout",
     "output_type": "stream",
     "text": [
      "Hello World\n"
     ]
    }
   ],
   "source": [
    "#Printing Multiple Strings\n",
    "# Notice output and how it adds a space between strings\n",
    "print(\"Hello\",\"World\")"
   ]
  },
  {
   "cell_type": "code",
   "execution_count": 209,
   "metadata": {},
   "outputs": [
    {
     "name": "stdout",
     "output_type": "stream",
     "text": [
      "1\n",
      "2\n",
      "0.5\n",
      "8\n"
     ]
    }
   ],
   "source": [
    "#Displaying numbers and calculations\n",
    "#Notice no quotation marks are required. \n",
    "print(1)\n",
    "print(2)\n",
    "print(1/2) \n",
    "print(2**3) #equivalent to 2 raised to power 3"
   ]
  },
  {
   "cell_type": "code",
   "execution_count": 210,
   "metadata": {},
   "outputs": [
    {
     "name": "stdout",
     "output_type": "stream",
     "text": [
      "Hello, My Age is 13\n"
     ]
    }
   ],
   "source": [
    "# Printing number with string\n",
    "print(\"Hello, My Age is\",13)"
   ]
  },
  {
   "cell_type": "code",
   "execution_count": 211,
   "metadata": {},
   "outputs": [
    {
     "name": "stdout",
     "output_type": "stream",
     "text": [
      "helloworld\n",
      "a tab\taway"
     ]
    }
   ],
   "source": [
    "#If you have noticed, every print statement is printing in a separate line. to change that, we use end keyword and pass space or tab or whatever you wish to append at the end of print\n",
    "print(\"hello\",end=\"\")\n",
    "print(\"world\",end=\"\\n\")\n",
    "\n",
    "#If you have noticed, every print statement is printing in a separate line. to change that, we use end keyword and pass space or tab or whatever you wish to append at the end of print\n",
    "print(\"a tab\",end=\"\\t\")\n",
    "print(\"away\",end=\"\")"
   ]
  },
  {
   "cell_type": "markdown",
   "metadata": {},
   "source": [
    "<hr>\n",
    "\n",
    "# Chapter - 2 - Variables\n",
    "* A variable is essentially a place in memory in which we store some value \n",
    "* Any value can be stored in a variable like numeric values, strings, characters etc. \n",
    "* Unlike other languages, we dont need to mention variable's data type in python."
   ]
  },
  {
   "cell_type": "markdown",
   "metadata": {},
   "source": [
    "### Types of Variables:\n",
    "* integer i.e. variable value is real numbers like 1,2,3,4555,444666 etc. \n",
    "* float i.e. the variable value is a floating point like 3.4455, 3.14, 24.56, 2555.667 etc.\n",
    "* String i.e. the variable value is a string i.e. \"Ahsan\", \"Ali\", \"Pakistan\" etc. Even if the string has one character, it is still termed as a string and not a character. \n",
    "* There are other types of variables as well but we'll keep it limited to these three for now."
   ]
  },
  {
   "cell_type": "code",
   "execution_count": 212,
   "metadata": {},
   "outputs": [],
   "source": [
    "# Let's create some variables\n",
    "name = \"Ahsan\"  #Here we store value Ahsan in a variable called \"name\". Remember to put your strings between the quotation marks\n",
    "age = 23        # We can store an integer value in the same way\n",
    "weight = 60.5   # Here we are storing a floating point number in similar fashion\n"
   ]
  },
  {
   "cell_type": "code",
   "execution_count": 213,
   "metadata": {},
   "outputs": [
    {
     "name": "stdout",
     "output_type": "stream",
     "text": [
      "Ahsan\n",
      "23\n",
      "60.5\n"
     ]
    }
   ],
   "source": [
    "# Printing these varaibles \n",
    "print(name)\n",
    "print(age)\n",
    "print(weight)"
   ]
  },
  {
   "cell_type": "code",
   "execution_count": 214,
   "metadata": {},
   "outputs": [
    {
     "name": "stdout",
     "output_type": "stream",
     "text": [
      "Ali\n"
     ]
    }
   ],
   "source": [
    "# I can modify variable at any time\n",
    "name = \"Ali\"\n",
    "#Printing name after modifying\n",
    "print(name)"
   ]
  },
  {
   "cell_type": "code",
   "execution_count": 215,
   "metadata": {},
   "outputs": [
    {
     "name": "stdout",
     "output_type": "stream",
     "text": [
      "My name is Ali , and my age is 23  and I weigh 60.5 kgs\n"
     ]
    }
   ],
   "source": [
    "# Similarly I can print all of these variables using single print command\n",
    "print(\"My name is\",name,\", and my age is\",age,\" and I weigh\",weight,\"kgs\")"
   ]
  },
  {
   "cell_type": "code",
   "execution_count": 216,
   "metadata": {},
   "outputs": [
    {
     "name": "stdout",
     "output_type": "stream",
     "text": [
      "My name is Ali, and my age is 23 and I weigh 60.5 KGs\n"
     ]
    }
   ],
   "source": [
    "#another way to print is using format. Note that this works in python 3.5\n",
    "#notice there is a small f representing special format just before the string.\n",
    "print(f\"My name is {name}, and my age is {age} and I weigh {weight} KGs\")"
   ]
  },
  {
   "cell_type": "markdown",
   "metadata": {},
   "source": [
    "#### Example: Take input from user and greet them"
   ]
  },
  {
   "cell_type": "code",
   "execution_count": 217,
   "metadata": {},
   "outputs": [
    {
     "name": "stdout",
     "output_type": "stream",
     "text": [
      "Hello, Please enter your name : Ahsan\n",
      "Hello Ahsan!\n"
     ]
    }
   ],
   "source": [
    "# you can also take quick input from user using input()\n",
    "name = input(\"Hello, Please enter your name : \") #input function is used to take input. String passed is presented to user as a prompt\n",
    "print(f\"Hello {name}!\") #print whatever name is given by user with a greeting! "
   ]
  },
  {
   "cell_type": "markdown",
   "metadata": {},
   "source": [
    "#### Finding Types of Variable\n",
    "* Since we are not declaring a variable type explicitly, we may need to know what a type of variable is\n",
    "* for that we use type(variable_name) function to print the type of variable\n",
    "* Python automatically selects the python variable type based on the data that is present inside it."
   ]
  },
  {
   "cell_type": "code",
   "execution_count": 218,
   "metadata": {},
   "outputs": [],
   "source": [
    "# Lets find type for name, age and weight "
   ]
  },
  {
   "cell_type": "code",
   "execution_count": 219,
   "metadata": {
    "scrolled": true
   },
   "outputs": [
    {
     "name": "stdout",
     "output_type": "stream",
     "text": [
      "<class 'str'>\n",
      "<class 'int'>\n",
      "<class 'float'>\n"
     ]
    }
   ],
   "source": [
    "print(type(name))\n",
    "print(type(age))\n",
    "print(type(weight))"
   ]
  },
  {
   "cell_type": "code",
   "execution_count": 220,
   "metadata": {},
   "outputs": [
    {
     "name": "stdout",
     "output_type": "stream",
     "text": [
      "<class 'str'>\n"
     ]
    }
   ],
   "source": [
    "#now lets say if I change the data in one of the variables. the type will change accordingly. \n",
    "#Lets change weight to be a category, rather than numeric weight\n",
    "weight = \"Overweight\"\n",
    "\n",
    "#Now lets find out the type of same variable\n",
    "print(type(weight))"
   ]
  },
  {
   "cell_type": "markdown",
   "metadata": {},
   "source": [
    "#### using variables in calculations\n",
    "##### We saw already how the variables can be printed with other strings. Now we'll see how they can be used in calculations. \n",
    "##### Example 1:"
   ]
  },
  {
   "cell_type": "code",
   "execution_count": 221,
   "metadata": {},
   "outputs": [
    {
     "name": "stdout",
     "output_type": "stream",
     "text": [
      "The temperature 37 degrees centigrade is equivalent to 98.6 degrees Fahrenheit \n"
     ]
    }
   ],
   "source": [
    "centigrade = 37 #Declaring a variable and assigning value to it. \n",
    "fahrenhiet = (centigrade * 9/5) + 32  #Notice how we easily used the centigrade variable directly in formula.\n",
    "print(f\"The temperature {centigrade} degrees centigrade is equivalent to {fahrenhiet} degrees Fahrenheit \")"
   ]
  },
  {
   "cell_type": "markdown",
   "metadata": {},
   "source": [
    "##### The above print statement and fahrenheit statements can be merged as follows...\n",
    "##### We replaced the formula within the print statement directly instead of assigning it to any variable."
   ]
  },
  {
   "cell_type": "code",
   "execution_count": 222,
   "metadata": {},
   "outputs": [
    {
     "name": "stdout",
     "output_type": "stream",
     "text": [
      "The temperature 37 degrees centigrade is equivalent to 98.6 degrees Fahrenheit \n"
     ]
    }
   ],
   "source": [
    "centigrade = 37 #Declaring a variable and assigning value to it. \n",
    "print(f\"The temperature {centigrade} degrees centigrade is equivalent to {(centigrade * 9/5) + 32} degrees Fahrenheit \")"
   ]
  },
  {
   "cell_type": "markdown",
   "metadata": {},
   "source": [
    "#### using variables in calculations\n",
    "##### Example 2:\n",
    "##### Say we want to make a currency converter from USD to PKR. Using rate as of today, i.e. 160 Rupees, we can easily do it like following:"
   ]
  },
  {
   "cell_type": "code",
   "execution_count": 223,
   "metadata": {},
   "outputs": [
    {
     "name": "stdout",
     "output_type": "stream",
     "text": [
      "The $135.6 is equivalent to Rs. 21696.0\n"
     ]
    }
   ],
   "source": [
    "usd = 135.6\n",
    "pkr = usd * 160\n",
    "print(f\"The ${usd} is equivalent to Rs. {pkr}\" )"
   ]
  },
  {
   "cell_type": "markdown",
   "metadata": {},
   "source": [
    "#### using variables in calculations\n",
    "##### Example 3:\n",
    "##### Updating an existing variable with its own value.\n",
    "##### We have a bank balance for a person. Now the person deposits a $100 into the variable"
   ]
  },
  {
   "cell_type": "code",
   "execution_count": 224,
   "metadata": {},
   "outputs": [
    {
     "name": "stdout",
     "output_type": "stream",
     "text": [
      "The bank balance after depositing $100 is $500\n"
     ]
    }
   ],
   "source": [
    "bank_balance = 400\n",
    "deposit = 100\n",
    "bank_balance = bank_balance + deposit\n",
    "print(f\"The bank balance after depositing ${deposit} is ${bank_balance}\")"
   ]
  },
  {
   "cell_type": "markdown",
   "metadata": {},
   "source": [
    "#### Another method to add a variable to itself is through following syntax:\n",
    "* variable_name += 3  -->  Adds 3 to the variable_name's value\n",
    "* variable_name -= 3  --> Subtracts 3 to the variable_name's value\n",
    "* variable_name *= 3  --> Multiplies variable_name's value by 3  <br/>\n",
    "Example of sum is below, practice subtract and multiplication yourself."
   ]
  },
  {
   "cell_type": "code",
   "execution_count": 225,
   "metadata": {},
   "outputs": [
    {
     "name": "stdout",
     "output_type": "stream",
     "text": [
      "The bank balance after depositing $100 is $500\n"
     ]
    }
   ],
   "source": [
    "bank_balance = 400\n",
    "deposit = 100\n",
    "bank_balance +=deposit\n",
    "print(f\"The bank balance after depositing ${deposit} is ${bank_balance}\")"
   ]
  },
  {
   "cell_type": "markdown",
   "metadata": {},
   "source": [
    "##### Explanation of line 3:\n",
    "* The variable written on the right side of equality takes data from pre-assigned value of variable. It will give error if the variable is not defined previously.\n",
    "* the variable on left side of equality updates the value after calculating. "
   ]
  },
  {
   "cell_type": "markdown",
   "metadata": {},
   "source": [
    "#### using variables in calculations\n",
    "##### Example 4:\n",
    "##### Updating an existing variable with its own value.\n",
    "##### We wish to calculate the sales tax on a product that costs $100. The tax rate is 5%."
   ]
  },
  {
   "cell_type": "code",
   "execution_count": 226,
   "metadata": {},
   "outputs": [
    {
     "name": "stdout",
     "output_type": "stream",
     "text": [
      "The product cost after adding tax of 0.05% is 105.0\n"
     ]
    }
   ],
   "source": [
    "productCost = 100\n",
    "taxRate = 0.05\n",
    "productCost = productCost + (productCost*taxRate)\n",
    "print(f\"The product cost after adding tax of {taxRate}% is {productCost}\")"
   ]
  },
  {
   "cell_type": "markdown",
   "metadata": {},
   "source": [
    "### One Important point\n",
    "#### Anything written between \" \" or ' ' is considered as a string. Even if they are numbers. Please find below one example and their difference"
   ]
  },
  {
   "cell_type": "code",
   "execution_count": 227,
   "metadata": {},
   "outputs": [
    {
     "name": "stdout",
     "output_type": "stream",
     "text": [
      "<class 'str'>\n",
      "<class 'int'>\n"
     ]
    }
   ],
   "source": [
    "number1 = \"21\"\n",
    "number2 = 21\n",
    "print(type(number1)) #We cannot use that directly in our calculations. we can cast it,however, to integer but more on that later.\n",
    "print(type(number2)) #We can use this directly in our calculations"
   ]
  },
  {
   "cell_type": "markdown",
   "metadata": {},
   "source": [
    "<hr>\n",
    "\n",
    "# Chapter-4-Math Expressions\n",
    "* Python has inbuilt math characters that can be used directly\n",
    "* Addition, subtraction, multiplication, division, remainder etc. can be calculated easily\n",
    "* Below are the examples of each of them. "
   ]
  },
  {
   "cell_type": "code",
   "execution_count": 228,
   "metadata": {},
   "outputs": [
    {
     "name": "stdout",
     "output_type": "stream",
     "text": [
      "adding 2+4= 6\n",
      "subtracting 2-4= -2\n",
      "Dividing 4/3= 1.3333333333333333\n",
      "Dividing 4/3 and getting integer answer= 1\n",
      "multiplying 2*4= 8\n",
      "Finding remainder of 4/3= 1\n",
      "2 raised to the power 3 equals= 8\n"
     ]
    }
   ],
   "source": [
    "#Addition\n",
    "print(\"adding 2+4=\",2+4)\n",
    "\n",
    "#Subtraction\n",
    "print(\"subtracting 2-4=\",2-4)\n",
    "\n",
    "#Division\n",
    "print(\"Dividing 4/3=\",4/3)\n",
    "\n",
    "#Division and get integer value at answer\n",
    "\n",
    "print(\"Dividing 4/3 and getting integer answer=\",4//3)\n",
    "\n",
    "#Multiplication\n",
    "print(\"multiplying 2*4=\",2*4)\n",
    "\n",
    "#remainder (remainder is whats left once you divide 2 numbers for example 4 divided by 3 gives 1 as remainder)\n",
    "print(\"Finding remainder of 4/3=\",4%3)\n",
    "\n",
    "#Power\n",
    "print(\"2 raised to the power 3 equals=\",2**3) #This is equivalent to 2 raised to power 2\n",
    "\n"
   ]
  },
  {
   "cell_type": "markdown",
   "metadata": {},
   "source": [
    "<hr>\n",
    "\n",
    "# Chapter-5-Variable Names Legal and Illegal\n",
    "* Python uses some words as its inbuild function or features. Hence using those words as a variable is not allowed. \n",
    "* Examples include and, in, True, False, except, try,is,import,if,global etc. \n",
    "* Python gives error if you try to assign any value to any of these. Take following for example:"
   ]
  },
  {
   "cell_type": "code",
   "execution_count": 229,
   "metadata": {},
   "outputs": [
    {
     "ename": "SyntaxError",
     "evalue": "invalid syntax (<ipython-input-229-9e1b1c54f670>, line 1)",
     "output_type": "error",
     "traceback": [
      "\u001b[1;36m  File \u001b[1;32m\"<ipython-input-229-9e1b1c54f670>\"\u001b[1;36m, line \u001b[1;32m1\u001b[0m\n\u001b[1;33m    raise = 3\u001b[0m\n\u001b[1;37m          ^\u001b[0m\n\u001b[1;31mSyntaxError\u001b[0m\u001b[1;31m:\u001b[0m invalid syntax\n"
     ]
    }
   ],
   "source": [
    "raise = 3"
   ]
  },
  {
   "cell_type": "code",
   "execution_count": 230,
   "metadata": {},
   "outputs": [
    {
     "ename": "SyntaxError",
     "evalue": "invalid syntax (<ipython-input-230-9f6db7ac69c5>, line 1)",
     "output_type": "error",
     "traceback": [
      "\u001b[1;36m  File \u001b[1;32m\"<ipython-input-230-9f6db7ac69c5>\"\u001b[1;36m, line \u001b[1;32m1\u001b[0m\n\u001b[1;33m    import = 4\u001b[0m\n\u001b[1;37m           ^\u001b[0m\n\u001b[1;31mSyntaxError\u001b[0m\u001b[1;31m:\u001b[0m invalid syntax\n"
     ]
    }
   ],
   "source": [
    "import = 4"
   ]
  },
  {
   "cell_type": "markdown",
   "metadata": {},
   "source": [
    "<hr>\n",
    "\n",
    "#### Variable Names are Case Sensitive! \n",
    "#### This means I can use same word with different cases and code will still run.\n",
    "#### Example is below:\n"
   ]
  },
  {
   "cell_type": "code",
   "execution_count": 231,
   "metadata": {},
   "outputs": [],
   "source": [
    "Rose = 3\n",
    "rOse = 2\n",
    "roSe = 1\n",
    "rosE = 0\n",
    "ROSE = -1\n",
    "rose = -2"
   ]
  },
  {
   "cell_type": "code",
   "execution_count": 232,
   "metadata": {},
   "outputs": [
    {
     "name": "stdout",
     "output_type": "stream",
     "text": [
      "3\n",
      "2\n",
      "1\n",
      "0\n",
      "-1\n",
      "-2\n"
     ]
    }
   ],
   "source": [
    "print(Rose)\n",
    "print(rOse)\n",
    "print(roSe)\n",
    "print(rosE)\n",
    "print(ROSE)\n",
    "print(rose)"
   ]
  },
  {
   "cell_type": "markdown",
   "metadata": {},
   "source": [
    "<hr>\n",
    "\n",
    "#### Standard Notation of Variables\n",
    "#### Python Programmers use camelNotation to assign variables, which means if your variable has more than one word, the first letter of first word is written in lower case while the first character of second variable is written in upper case.\n",
    "#### Example is below:\n",
    "* userBalance\n",
    "* myAge\n",
    "* name\n",
    "* cityName\n",
    "* phoneNumber\n",
    "* ageOfCustomer\n",
    "\n"
   ]
  },
  {
   "cell_type": "markdown",
   "metadata": {},
   "source": [
    "<hr>\n",
    "\n",
    "# Chapter 7 - Eliminating Ambiguity\n",
    "\n",
    "#### You may heard of a BDMAS rule in math. The python follows same rules and if you want to specify or order a calculation first, you must use parenthesis brackets to specify. \n",
    "\n",
    "#### Example: \n",
    "\n",
    "* Imagine a calculation 1+2-4/5*9. using dmas rule we should get -4.2 as answer\n",
    "* But if we contain the 5*9 in brackets, the answer will change. "
   ]
  },
  {
   "cell_type": "code",
   "execution_count": 233,
   "metadata": {},
   "outputs": [
    {
     "name": "stdout",
     "output_type": "stream",
     "text": [
      "without parenthesis -4.2\n",
      "with parenthesis 2.911111111111111\n"
     ]
    }
   ],
   "source": [
    "print(\"without parenthesis\",1+2-4/5*9)\n",
    "print(\"with parenthesis\",1+2-4/(5*9))\n"
   ]
  },
  {
   "cell_type": "markdown",
   "metadata": {},
   "source": [
    "#### Another Example: \n",
    "\n",
    "* Imagine a calculation 1+2*5+9. using dmas rule we should get 20 as answer\n",
    "* But if we contain the 1+2 and 5+9 in brackets, the answer will change. "
   ]
  },
  {
   "cell_type": "code",
   "execution_count": 234,
   "metadata": {},
   "outputs": [
    {
     "name": "stdout",
     "output_type": "stream",
     "text": [
      "without brakcets:  20\n",
      "with brakcets:  42\n"
     ]
    }
   ],
   "source": [
    "print(\"without brakcets: \",1+2*5+9)\n",
    "print(\"with brakcets: \",(1+2)*(5+9))"
   ]
  },
  {
   "cell_type": "markdown",
   "metadata": {},
   "source": [
    "<hr>\n",
    "\n",
    "# Chapter 8 - Concatenating Strings\n",
    "\n",
    "#### This has been discussed earlier but we should learn a few things here that may help\n",
    "#### We can concatenate strings by using + sign between two strings. Please have a look at following examples\n"
   ]
  },
  {
   "cell_type": "code",
   "execution_count": 235,
   "metadata": {},
   "outputs": [
    {
     "name": "stdout",
     "output_type": "stream",
     "text": [
      "HelloWorld\n"
     ]
    }
   ],
   "source": [
    "#Example 1\n",
    "string1 = \"Hello\"\n",
    "string2 = \"World\"\n",
    "string = string1 + string2\n",
    "print(string)"
   ]
  },
  {
   "cell_type": "code",
   "execution_count": 236,
   "metadata": {},
   "outputs": [
    {
     "name": "stdout",
     "output_type": "stream",
     "text": [
      "Hello! John! Welcome to Python 101\n"
     ]
    }
   ],
   "source": [
    "#Example 1\n",
    "greeting = \"Hello! \"\n",
    "name = \"John\"\n",
    "punctuation = \"!\"\n",
    "message = \" Welcome to Python 101\"\n",
    "\n",
    "print(greeting+name+punctuation+message)"
   ]
  },
  {
   "cell_type": "markdown",
   "metadata": {},
   "source": [
    "#### Important:\n",
    "* String can have any ASCII character as input. You can have a look at complete ASCII chart and read more about it on following link : http://www.asciitable.com/\n",
    "* The plus sign concatenates the strings without spaces. So if you wish to add space, you can define an empty string and concatenate it between the two texts. Example below:"
   ]
  },
  {
   "cell_type": "code",
   "execution_count": 237,
   "metadata": {},
   "outputs": [
    {
     "name": "stdout",
     "output_type": "stream",
     "text": [
      "Hello! John! Welcome to Python 101\n"
     ]
    }
   ],
   "source": [
    "greeting = \"Hello!\"\n",
    "name = \"John\"\n",
    "punctuation = \"!\"\n",
    "message = \"Welcome to Python 101\"\n",
    "space = \" \"\n",
    "print(greeting+space+name+punctuation+space+message)"
   ]
  },
  {
   "cell_type": "markdown",
   "metadata": {},
   "source": [
    "<hr>\n",
    "\n",
    "# Chapter 9 - If-else Statements\n",
    "\n",
    "#### So far we checked basic functions regarding variables, calculations etc. Now we move to learn about how to make decisions based on a condition. \n",
    "\n",
    "#### The condition is any formula that gives a boolean (True/False) output. We can decide what to show to user or what action to perform based on this condition. \n",
    "\n",
    "#### If keyword is used to start such a decision. \n",
    "\n",
    "#### Syntax is following:\n",
    "    if(condition):\n",
    "        perform these actions\n",
    "        and these as well\n",
    "        and these too if the condition is true\n",
    "    else:\n",
    "        perform these actions if condition is false\n",
    "        \n",
    "    other lines of code\n",
    "        \n",
    "Notice the colon at the end of if condition and all actions below it are indented by one tab. last line is not indented. \n",
    "else statement is run only when the condition is False and if block is not executed. \n",
    "\n",
    "Example below:"
   ]
  },
  {
   "cell_type": "code",
   "execution_count": 238,
   "metadata": {},
   "outputs": [
    {
     "name": "stdout",
     "output_type": "stream",
     "text": [
      "Yes\n"
     ]
    }
   ],
   "source": [
    "#Insert random numbers in numberone and two and see the if-else in action:\n",
    "numberOne = 3\n",
    "numberTwo = 2\n",
    "if(numberOne>numberTwo):\n",
    "    print(\"Yes\")\n",
    "else:\n",
    "    print(\"No\")"
   ]
  },
  {
   "cell_type": "code",
   "execution_count": 239,
   "metadata": {},
   "outputs": [
    {
     "name": "stdout",
     "output_type": "stream",
     "text": [
      "She is a nice girl\n"
     ]
    }
   ],
   "source": [
    "# Similarly another example. We can take decisions based on strings as well. \n",
    "user = \"Female\"\n",
    "if(user==\"Male\"):\n",
    "    print(\"He is a nice guy\")\n",
    "else:\n",
    "    print(\"She is a nice girl\")"
   ]
  },
  {
   "cell_type": "code",
   "execution_count": 240,
   "metadata": {},
   "outputs": [],
   "source": [
    "#Another Example. Using input to get amount and conversion direction to convert either from PKR to USD or USD to PKR"
   ]
  },
  {
   "cell_type": "code",
   "execution_count": 242,
   "metadata": {},
   "outputs": [
    {
     "name": "stdout",
     "output_type": "stream",
     "text": [
      "Enter amount in PKR or USD: 500\n",
      "Enter conversion direction \n",
      " 1 for USD to PKR \n",
      " any other digit for PKR to USD: 1\n",
      "Total amount for $ 500 is Rs.80000\n"
     ]
    }
   ],
   "source": [
    "amount = int(input(\"Enter amount in PKR or USD: \")) #int() in start helps converting string input to integer value. We'll learn about it in type castings\n",
    "conversionMode = int(input(\"Enter conversion direction \\n 1 for USD to PKR \\n any other digit for PKR to USD: \"))\n",
    "if(conversionMode==1):\n",
    "    print(f\"Total amount for $ {amount} is Rs.{amount*160}\")\n",
    "else:\n",
    "    print(f\"Total amount for PKR {amount} is ${amount/160}\")\n",
    "          \n",
    "    "
   ]
  },
  {
   "cell_type": "markdown",
   "metadata": {},
   "source": [
    "<hr>\n",
    "\n",
    "#### You might be wondering what if there are more than two options to select from. For that we use elif. \n",
    "#### If keyword is used to start such a decision. \n",
    "\n",
    "#### Syntax is following:\n",
    "    if(condition):\n",
    "        perform these actions\n",
    "        and these as well\n",
    "        and these too if the condition is true\n",
    "        and dont elif or else below.\n",
    "    elif(check this second condition):\n",
    "        perform these actions if second condition is true\n",
    "        and dont execute elif or else below\n",
    "    elif(check this third condition)\n",
    "        perform these actions if third condition is true\n",
    "        and dont execute elif or else below.\n",
    "    else:\n",
    "        perform these actions if no option is true\n",
    "        \n",
    "    other lines of code\n",
    "        \n",
    "you can add as many elif blocks as you have conditions\n",
    "\n",
    "Example below:"
   ]
  },
  {
   "cell_type": "code",
   "execution_count": 243,
   "metadata": {},
   "outputs": [
    {
     "name": "stdout",
     "output_type": "stream",
     "text": [
      "Enter Gender Male/FemaleMale\n",
      "He is a nice guy\n"
     ]
    }
   ],
   "source": [
    "# We can now modify the above example and add an elif block to it.\n",
    "user = input(\"Enter Gender Male/Female\")\n",
    "if(user==\"Male\"):\n",
    "    print(\"He is a nice guy\")\n",
    "elif(user==\"Female\"):\n",
    "    print(\"She is a nice girl\")\n",
    "else:\n",
    "    print(\"invalid option\")"
   ]
  },
  {
   "cell_type": "markdown",
   "metadata": {},
   "source": [
    "<hr>\n",
    "\n",
    "# Chapter 10 -  Comparison Operators:\n",
    "### comparison operators are the ones that are used to build a condition. \n",
    "#### A list of these operators and their denotions are given as follows:\n",
    "* Equality operator denoted by ==, \n",
    "* not equal !=\n",
    "* less than < \n",
    "* greater than >\n",
    "* greater than and equal to >= \n",
    "* less than and equal to <=\n",
    "\n",
    "#### It is worth noting that we can also use the equality and non-equality operators for strings as well. while other operators can only be used for numeric comparisons only. \n",
    "\n",
    "#### In equality comparison, note that there are two == signs. It is different from assignment operator that uses one = to assign a value. Python usually gives error if one = is used but if it doesnt give error, the program may not work properly."
   ]
  },
  {
   "cell_type": "code",
   "execution_count": 244,
   "metadata": {},
   "outputs": [
    {
     "name": "stdout",
     "output_type": "stream",
     "text": [
      "False\n",
      "True\n",
      "True\n",
      "False\n",
      "True\n",
      "False\n",
      "True\n",
      "True\n",
      "False\n"
     ]
    }
   ],
   "source": [
    "#we can quickly see the results as following: \n",
    "print(2==3)\n",
    "print(2!=3)\n",
    "print(2<3)\n",
    "print(2>3)\n",
    "print(2<=3)\n",
    "print(2>=3)\n",
    "print(\"Head\"==\"Head\")\n",
    "print(\"Tails\"!=\"Head\")\n",
    "print(\"Apples\"==\"Oranges\")"
   ]
  },
  {
   "cell_type": "markdown",
   "metadata": {},
   "source": [
    "### How to check Multiple conditions in same If? \n",
    "#### We can use keywords like and, or to create our logic.\n",
    "* and keyword checks if all conditions are true, only then it returns true. \n",
    "* or keyword checks if any one of the condition is true, it returns true.\n",
    "* you can compare only two conditions using one and/or. for multiple values, you have to use and again. \n",
    "* In a condition where you have both and & or statements written, and will be given precedence if precedence not set through parenthesis. More on precedence : https://www.mathcs.emory.edu/~valerie/courses/fall10/155/resources/op_precedence.html"
   ]
  },
  {
   "cell_type": "code",
   "execution_count": 245,
   "metadata": {},
   "outputs": [
    {
     "name": "stdout",
     "output_type": "stream",
     "text": [
      "False\n",
      "True\n",
      "True\n",
      "False\n"
     ]
    }
   ],
   "source": [
    "#### Example:\n",
    "a = True\n",
    "b = False\n",
    "c = True\n",
    "print(a and b)\n",
    "print(a or b and c)\n",
    "print(a and b or c)\n",
    "print(a and (b and c))"
   ]
  },
  {
   "cell_type": "code",
   "execution_count": 246,
   "metadata": {},
   "outputs": [
    {
     "name": "stdout",
     "output_type": "stream",
     "text": [
      "The or keyword is run\n"
     ]
    }
   ],
   "source": [
    "#Example\n",
    "\n",
    "a = 30\n",
    "# so it is less than 20 and less than 5 as well. \n",
    "\n",
    "if(a<20 and a>5): #This condition will not be true as it will check for all conditions and it will mark it true only if all conditions are true\n",
    "    print(\"The and keyword is run\")\n",
    "elif(a<20 or a>5): #or keyword checks if any one of the conditions are true, it will work. \n",
    "    print(\"The or keyword is run\")\n",
    "else:\n",
    "    print(\"none\")\n"
   ]
  },
  {
   "cell_type": "markdown",
   "metadata": {},
   "source": [
    "# Nested If-statements. \n",
    "* You can put one if statement inside the other to check conditions one after another\n",
    "* The complete if-else will be indented inside the other if.\n",
    "* the else statement of parent if will come after the nested conditions are over.\n",
    "\n",
    "#### Example: \n",
    "* let's get a username and password from user. Username is \"ahsan\" and password is \"1234\"\n",
    "* and then if the username/password is correct, get his age and print like below:\n",
    "    * if the age is under 21, write \"you cannot get a driving license\"\n",
    "    * if the age is between 21 and 40, write \"you may proceed to get a driving license\"\n",
    "    * if the age is above 40, write \"Please arrange a health certificate before applying\""
   ]
  },
  {
   "cell_type": "code",
   "execution_count": 248,
   "metadata": {
    "scrolled": true
   },
   "outputs": [
    {
     "name": "stdout",
     "output_type": "stream",
     "text": [
      "Enter Username: ahsan\n",
      "Enter Password: 1234\n",
      "enter your age40\n",
      "You may proceed to get a driving license\n"
     ]
    }
   ],
   "source": [
    "# First, lets get username and password as input\n",
    "username = input(\"Enter Username: \") \n",
    "password = input(\"Enter Password: \") \n",
    "\n",
    "# for now we use same input to get password. later we will import a library to take hidden password\n",
    "# Next step is to check whether the username and password are correct. \n",
    "\n",
    "if(username==\"ahsan\" and password==\"1234\"):\n",
    "    # Here all statements will be \n",
    "    age = int(input(\"enter your age\")) #converting age to integer.\n",
    "    if(age<21):\n",
    "        print(\"You cannot get a driving license\")\n",
    "    elif(age>=21 and age<=40):\n",
    "        print(\"You may proceed to get a driving license\")\n",
    "    else:\n",
    "        print(\"Please arrange a health certificate before applying\")\n",
    "else:\n",
    "    print(\"invalid username/password\")\n",
    "\n"
   ]
  },
  {
   "cell_type": "markdown",
   "metadata": {},
   "source": [
    "#### Pro-tip: you can take input directly into the if conditions as well. "
   ]
  },
  {
   "cell_type": "code",
   "execution_count": 249,
   "metadata": {},
   "outputs": [
    {
     "name": "stdout",
     "output_type": "stream",
     "text": [
      "hello\n",
      "yes! you wrote hello\n"
     ]
    }
   ],
   "source": [
    "#Run this program and enter hello.\n",
    "if(input()==\"hello\"):\n",
    "    print(\"yes! you wrote hello\")\n",
    "else:\n",
    "    print(\"Sorry\")"
   ]
  },
  {
   "cell_type": "markdown",
   "metadata": {},
   "source": [
    "# Chapter - 15 - Lists\n",
    "\n",
    "* We studied previously, that a single variable stores a single value\n",
    "* What if we have to store more than one value in a single variable? \n",
    "* We use lists to store multiple values and then reference them one after the other.\n",
    "* Every entry is \n",
    "* This saves us the effort to define plenty of varaibles organzes things\n",
    "* A list can have same kind of data or it can store different kinds of data.\n",
    "\n",
    "#### Syntax:\n",
    "* We define the list as:<br/>\n",
    "    list_name = [\"first_element\",\"second_element\",\"third_element\"]\n",
    "* Now we can access the first element of list, we can do it like list_name[0]. The 0 in the statement is called index value\n",
    "* The index values go from 0 until one less than the total length of list\n"
   ]
  },
  {
   "cell_type": "code",
   "execution_count": 250,
   "metadata": {},
   "outputs": [],
   "source": [
    "# Example:\n",
    "# Lets define a list of city names\n",
    "cities = [\"Moscow\",\"Islamabad\",\"Lahore\",\"Peshawar\"]"
   ]
  },
  {
   "cell_type": "code",
   "execution_count": 251,
   "metadata": {},
   "outputs": [
    {
     "name": "stdout",
     "output_type": "stream",
     "text": [
      "['Moscow', 'Islamabad', 'Lahore', 'Peshawar']\n"
     ]
    }
   ],
   "source": [
    "# Printing complete list \n",
    "print(cities)"
   ]
  },
  {
   "cell_type": "code",
   "execution_count": 252,
   "metadata": {},
   "outputs": [
    {
     "name": "stdout",
     "output_type": "stream",
     "text": [
      "Moscow\n",
      "Islamabad\n",
      "Lahore\n",
      "Peshawar\n"
     ]
    }
   ],
   "source": [
    "# printing individual elements of list\n",
    "print(cities[0])\n",
    "print(cities[1])\n",
    "print(cities[2])\n",
    "print(cities[3])"
   ]
  },
  {
   "cell_type": "markdown",
   "metadata": {},
   "source": [
    "##### You can use the list in same way as a variable"
   ]
  },
  {
   "cell_type": "code",
   "execution_count": 253,
   "metadata": {},
   "outputs": [
    {
     "name": "stdout",
     "output_type": "stream",
     "text": [
      "The list of cities are  ['Moscow', 'Islamabad', 'Lahore', 'Peshawar']\n"
     ]
    }
   ],
   "source": [
    "print(\"The list of cities are \",cities)"
   ]
  },
  {
   "cell_type": "code",
   "execution_count": 254,
   "metadata": {},
   "outputs": [
    {
     "name": "stdout",
     "output_type": "stream",
     "text": [
      "The first city in list is  Moscow\n"
     ]
    }
   ],
   "source": [
    "print(\"The first city in list is \",cities[0])\n"
   ]
  },
  {
   "cell_type": "markdown",
   "metadata": {},
   "source": [
    "#### Adding an element to list:\n",
    "* you can add an element by using list_name.append(new_element) function. \n",
    "* Let's add a city to the list of cities we already made. Lets add Karachi and Quetta"
   ]
  },
  {
   "cell_type": "code",
   "execution_count": 255,
   "metadata": {},
   "outputs": [
    {
     "name": "stdout",
     "output_type": "stream",
     "text": [
      "['Moscow', 'Islamabad', 'Lahore', 'Peshawar']\n",
      "\n",
      "After adding Karachi: \n",
      "['Moscow', 'Islamabad', 'Lahore', 'Peshawar', 'Karachi']\n",
      "\n",
      "After adding Quetta: \n",
      "['Moscow', 'Islamabad', 'Lahore', 'Peshawar', 'Karachi', 'Quetta']\n"
     ]
    }
   ],
   "source": [
    "# Adding Karachi and Quetta to the list\n",
    "print(cities)\n",
    "print(\"\\nAfter adding Karachi: \")\n",
    "cities.append(\"Karachi\")\n",
    "print(cities)\n",
    "print(\"\\nAfter adding Quetta: \")\n",
    "cities.append(\"Quetta\")\n",
    "print(cities)"
   ]
  },
  {
   "cell_type": "markdown",
   "metadata": {},
   "source": [
    "#### adding a list to another list. \n",
    "* Sometimes, instead of adding a single element, you may need to append another list. \n",
    "* This can be done using + sign. \n",
    "* Lets add two more cities Faisalabad and Multan using array"
   ]
  },
  {
   "cell_type": "code",
   "execution_count": 256,
   "metadata": {},
   "outputs": [
    {
     "name": "stdout",
     "output_type": "stream",
     "text": [
      "['Moscow', 'Islamabad', 'Lahore', 'Peshawar', 'Karachi', 'Quetta', 'Faisalabad', 'Multan']\n"
     ]
    }
   ],
   "source": [
    "cities = cities + [\"Faisalabad\",\"Multan\"]\n",
    "print(cities)"
   ]
  },
  {
   "cell_type": "markdown",
   "metadata": {},
   "source": [
    "#### append() appends the new values at the end of list. \n",
    "#### We use insert() if we wish to add a value at a specific location. \n",
    "* insert gets two values within the parenthesis. first value specifies the index location and second value specifies the value that is to be inserted. \n",
    "* Lets add Gujrat and Gujranwala at index values 2 and 5 respectively.\n"
   ]
  },
  {
   "cell_type": "code",
   "execution_count": 257,
   "metadata": {},
   "outputs": [
    {
     "name": "stdout",
     "output_type": "stream",
     "text": [
      "after inserting Gujrat\n",
      "['Moscow', 'Islamabad', 'Gujrat', 'Lahore', 'Peshawar', 'Karachi', 'Quetta', 'Faisalabad', 'Multan']\n",
      "after inserting Gujranwala\n",
      "['Moscow', 'Islamabad', 'Gujrat', 'Lahore', 'Peshawar', 'Gujranwala', 'Karachi', 'Quetta', 'Faisalabad', 'Multan']\n"
     ]
    }
   ],
   "source": [
    "cities.insert(2,\"Gujrat\")\n",
    "print(\"after inserting Gujrat\")\n",
    "print(cities)\n",
    "cities.insert(5,\"Gujranwala\")\n",
    "print(\"after inserting Gujranwala\")\n",
    "print(cities)\n"
   ]
  },
  {
   "cell_type": "code",
   "execution_count": null,
   "metadata": {},
   "outputs": [],
   "source": [
    "# "
   ]
  },
  {
   "cell_type": "markdown",
   "metadata": {},
   "source": [
    "# Chapter - 17 - Slices out of Lists\n",
    "\n",
    "* If we wish to get a subset of consecutive items in the list, we can use slices.\n",
    "\n",
    "#### Syntax:\n",
    "* You can use the index values separated by a colon in the indices. \n",
    "* e.g. cities[2:5] returns the values at index values 2, 3 and 4. \n",
    "* cities[:5] returns the values at index 0 until 4. \n",
    "* cities[5:] rreturns the values from index 5 until the end of the list.\n"
   ]
  },
  {
   "cell_type": "code",
   "execution_count": 258,
   "metadata": {},
   "outputs": [
    {
     "name": "stdout",
     "output_type": "stream",
     "text": [
      "['Gujrat', 'Lahore', 'Peshawar']\n",
      "['Moscow', 'Islamabad', 'Gujrat', 'Lahore', 'Peshawar']\n",
      "['Gujranwala', 'Karachi', 'Quetta', 'Faisalabad', 'Multan']\n"
     ]
    }
   ],
   "source": [
    "print(cities[2:5])\n",
    "print(cities[:5])\n",
    "print(cities[5:])"
   ]
  },
  {
   "cell_type": "markdown",
   "metadata": {},
   "source": [
    "# Chapter - 18 - Deleting and removing elements from list\n",
    "\n",
    "* If we want to delete an element from list, we can use del command\n",
    "\n",
    "#### Syntax:\n",
    "* we can simply write del followed by the element that we want to delete. \n",
    "* Lets remove cities Moscow and Multan from the list. Moscow is at index 0 and multan is at index"
   ]
  },
  {
   "cell_type": "code",
   "execution_count": 259,
   "metadata": {},
   "outputs": [
    {
     "name": "stdout",
     "output_type": "stream",
     "text": [
      "After deleting Multan: \n",
      "['Moscow', 'Islamabad', 'Gujrat', 'Lahore', 'Peshawar', 'Gujranwala', 'Karachi', 'Quetta', 'Faisalabad']\n",
      "After deleting Moscow: \n",
      "['Islamabad', 'Gujrat', 'Lahore', 'Peshawar', 'Gujranwala', 'Karachi', 'Quetta', 'Faisalabad']\n"
     ]
    }
   ],
   "source": [
    "del cities[9] #to delete multan\n",
    "print(\"After deleting Multan: \")\n",
    "print(cities)\n",
    "del cities[0] #to delete multan\n",
    "print(\"After deleting Moscow: \")\n",
    "print(cities)\n"
   ]
  },
  {
   "cell_type": "markdown",
   "metadata": {},
   "source": [
    "#### What if we dont know the index value?\n",
    "* If we wish to remove the city name by mentioning its name and not index value, we can use remove() instead of del.\n",
    "#### Syntax:\n",
    "* list_name.remove(value)"
   ]
  },
  {
   "cell_type": "code",
   "execution_count": 260,
   "metadata": {},
   "outputs": [
    {
     "name": "stdout",
     "output_type": "stream",
     "text": [
      "After removing Quetta: ['Islamabad', 'Gujrat', 'Lahore', 'Peshawar', 'Gujranwala', 'Karachi', 'Faisalabad']\n"
     ]
    }
   ],
   "source": [
    "#Example\n",
    "#Lets remove Quetta from the list of cities we are working with. \n",
    "\n",
    "cities.remove(\"Quetta\")\n",
    "print(\"After removing Quetta:\",cities)"
   ]
  },
  {
   "cell_type": "markdown",
   "metadata": {},
   "source": [
    "#### Pop out value\n",
    "* when you remove or delete a value, it simply vanishes. Sometimes you need the removed value in a variable to use. \n",
    "* to keep value in a variable and remove from list at the same time, we use pop command. \n",
    "#### Syntax:\n",
    "* some_variable = list_name.pop(index_value)\n",
    "\n",
    "##### Example:\n",
    "* Lets pop out the Gujrat from list and assign the value to a variable which is at index value 1"
   ]
  },
  {
   "cell_type": "code",
   "execution_count": 261,
   "metadata": {},
   "outputs": [
    {
     "name": "stdout",
     "output_type": "stream",
     "text": [
      "Gujrat\n",
      "cities list after popping out Gujrat  ['Islamabad', 'Lahore', 'Peshawar', 'Gujranwala', 'Karachi', 'Faisalabad']\n"
     ]
    }
   ],
   "source": [
    "city_name = cities.pop(1)\n",
    "print(city_name)\n",
    "print(\"cities list after popping out Gujrat \",cities)"
   ]
  },
  {
   "cell_type": "code",
   "execution_count": null,
   "metadata": {},
   "outputs": [],
   "source": []
  }
 ],
 "metadata": {
  "kernelspec": {
   "display_name": "Python 3",
   "language": "python",
   "name": "python3"
  },
  "language_info": {
   "codemirror_mode": {
    "name": "ipython",
    "version": 3
   },
   "file_extension": ".py",
   "mimetype": "text/x-python",
   "name": "python",
   "nbconvert_exporter": "python",
   "pygments_lexer": "ipython3",
   "version": "3.6.6"
  }
 },
 "nbformat": 4,
 "nbformat_minor": 2
}
