{
 "cells": [
  {
   "cell_type": "markdown",
   "metadata": {},
   "source": [
    "# Chapter 20 - Tuples\n",
    "\n",
    "* Tuples are like lists but they cannot be changed. \n",
    "* In lists, we were adding/deleting items, in tuples it is not possible to do so. \n",
    "* This is good in a way for those lists that you dont want to be changed.\n",
    "\n",
    "##### Syntax\n",
    "* The Tuples are bounded by parenthesis at the time of definition. <br/>\n",
    "    tuple_name = (\"some element\",\"some element too\",\"some element three\")\n"
   ]
  },
  {
   "cell_type": "code",
   "execution_count": 2,
   "metadata": {},
   "outputs": [
    {
     "name": "stdout",
     "output_type": "stream",
     "text": [
      "('Baluchistan', 'Gilgit Baltistan', 'Punjab', 'Sindh', 'KPK')\n"
     ]
    }
   ],
   "source": [
    "#Tuple Example:\n",
    "# We know provinces of Pakistan will not change for a while, so we can define a tuple and reference it. \n",
    "provinces_of_pakistan = (\"Baluchistan\",\"Gilgit Baltistan\",\"Punjab\",\"Sindh\",\"KPK\")\n",
    "print(provinces_of_pakistan)"
   ]
  },
  {
   "cell_type": "code",
   "execution_count": 3,
   "metadata": {},
   "outputs": [
    {
     "name": "stdout",
     "output_type": "stream",
     "text": [
      "Baluchistan\n",
      "Gilgit Baltistan\n",
      "Punjab\n",
      "Sindh\n",
      "KPK\n"
     ]
    },
    {
     "data": {
      "text/plain": [
       "tuple"
      ]
     },
     "execution_count": 3,
     "metadata": {},
     "output_type": "execute_result"
    }
   ],
   "source": [
    "# You can access the individual elements of tuple in same way as you were doing for the list. \n",
    "#Let's print each element individually.\n",
    "\n",
    "print(provinces_of_pakistan[0])\n",
    "print(provinces_of_pakistan[1])\n",
    "print(provinces_of_pakistan[2])\n",
    "print(provinces_of_pakistan[3])\n",
    "print(provinces_of_pakistan[4])\n",
    "\n",
    "# You can also check type of a variable in same way:\n",
    "type(provinces_of_pakistan)"
   ]
  },
  {
   "cell_type": "code",
   "execution_count": 4,
   "metadata": {},
   "outputs": [
    {
     "ename": "TypeError",
     "evalue": "'tuple' object does not support item assignment",
     "output_type": "error",
     "traceback": [
      "\u001b[1;31m---------------------------------------------------------------------------\u001b[0m",
      "\u001b[1;31mTypeError\u001b[0m                                 Traceback (most recent call last)",
      "\u001b[1;32m<ipython-input-4-35038b8f4e54>\u001b[0m in \u001b[0;36m<module>\u001b[1;34m\u001b[0m\n\u001b[0;32m      1\u001b[0m \u001b[1;31m# now, if I want to replace a value or assign a new value, it will give error. lets try doing it:\u001b[0m\u001b[1;33m\u001b[0m\u001b[1;33m\u001b[0m\u001b[0m\n\u001b[1;32m----> 2\u001b[1;33m \u001b[0mprovinces_of_pakistan\u001b[0m\u001b[1;33m[\u001b[0m\u001b[1;36m0\u001b[0m\u001b[1;33m]\u001b[0m \u001b[1;33m=\u001b[0m \u001b[1;34m\"Islamabad\"\u001b[0m\u001b[1;33m\u001b[0m\u001b[0m\n\u001b[0m",
      "\u001b[1;31mTypeError\u001b[0m: 'tuple' object does not support item assignment"
     ]
    }
   ],
   "source": [
    "# now, if I want to replace a value or assign a new value, it will give error. lets try doing it:\n",
    "provinces_of_pakistan[0] = \"Islamabad\""
   ]
  },
  {
   "cell_type": "markdown",
   "metadata": {},
   "source": [
    "# Chapter 21 - For Loops\n",
    "\n",
    "* suppose we have a program, that requires you to perform a same action many times. \n",
    "* For example, lets say we have to print \"Hello World\" 10 times. \n",
    "    * Easiest way would be to write 10 print statements\n",
    "    * But that is a very manual and quite fatigue to write same statement 10 times\n",
    "* Or lets say, in above example, we used a tuple. What if we want to print all the names in tuple without using multiple print statements? \n",
    "* to do the repetitive work, we use loops.\n",
    "* Loops are used differently in different functions. You can loop through a list, a tuple and even loop between two numbers\n",
    "* We shall now see examples of For Loops\n",
    "\n",
    "\n",
    "##### Syntax: \n",
    "* In simple number iterations, we use range function. range function returns consecutive numbers between two end points. its syntax is range(0,10). Note that if you put one number in range i.e. range(10), it will automatically assume that the starting point is 0. \n",
    "\n",
    "* Note that the if you set range (0,10), it will go from 0 until 9, running exactly 10 times. \n",
    "\n",
    "* syntax for for loop is as follows:\n",
    "        for any_variable in range(0,10):\n",
    "            whatever you want to print is indented inside for loop block.\n",
    "        This will not be a part of for loop\n"
   ]
  },
  {
   "cell_type": "code",
   "execution_count": 6,
   "metadata": {},
   "outputs": [
    {
     "name": "stdout",
     "output_type": "stream",
     "text": [
      "Hello World\n",
      "Hello World\n",
      "Hello World\n",
      "Hello World\n",
      "Hello World\n",
      "Hello World\n",
      "Hello World\n",
      "Hello World\n",
      "Hello World\n",
      "Hello World\n"
     ]
    }
   ],
   "source": [
    "#Print Hello World 10 times\n",
    "for i in range(0,10): \n",
    "    print(\"Hello World\")"
   ]
  },
  {
   "cell_type": "code",
   "execution_count": 7,
   "metadata": {
    "scrolled": true
   },
   "outputs": [
    {
     "name": "stdout",
     "output_type": "stream",
     "text": [
      "This is the 0 iteration of loop\n",
      "This is the 1 iteration of loop\n",
      "This is the 2 iteration of loop\n",
      "This is the 3 iteration of loop\n",
      "This is the 4 iteration of loop\n",
      "This is the 5 iteration of loop\n",
      "This is the 6 iteration of loop\n",
      "This is the 7 iteration of loop\n",
      "This is the 8 iteration of loop\n",
      "This is the 9 iteration of loop\n"
     ]
    }
   ],
   "source": [
    "#Now Lets try to print the range value in each loop\n",
    "for i in range(0,10): \n",
    "    print(f\"This is the {i} iteration of loop\") "
   ]
  },
  {
   "cell_type": "code",
   "execution_count": 8,
   "metadata": {},
   "outputs": [
    {
     "name": "stdout",
     "output_type": "stream",
     "text": [
      "The 0 is even\n",
      "The 1 is odd\n",
      "The 2 is even\n",
      "The 3 is odd\n",
      "The 4 is even\n",
      "The 5 is odd\n",
      "The 6 is even\n",
      "The 7 is odd\n",
      "The 8 is even\n",
      "The 9 is odd\n"
     ]
    }
   ],
   "source": [
    "#Let's try to add an if condition and seggregate the even and odd numbers of i.\n",
    "for i in range(0,10): \n",
    "    if(i%2==0): # we have used remainder operator and equated it equal to 0 to check if the number is fully divisible by 2 or not. \n",
    "        print(f\"The {i} is even\") \n",
    "    else:\n",
    "        print(f\"The {i} is odd\")"
   ]
  },
  {
   "cell_type": "code",
   "execution_count": 9,
   "metadata": {},
   "outputs": [
    {
     "name": "stdout",
     "output_type": "stream",
     "text": [
      "Apple\n",
      "Orange\n",
      "Guava\n",
      "Pear\n",
      "Grapes\n",
      "Mango\n",
      "Watermelon\n"
     ]
    }
   ],
   "source": [
    "# Similarly, lets try to print a list with for loop\n",
    "\n",
    "fruits = [\"Apple\",\"Orange\",\"Guava\",\"Pear\",\"Grapes\",\"Mango\",\"Watermelon\"]\n",
    "for i in fruits:   # Here, instead of range, we have given directly the name of list. Now i, in each iteration, will be the entry of the list. \n",
    "    print(i)       #Simply printing i will give us the list elements one by one. "
   ]
  },
  {
   "cell_type": "code",
   "execution_count": 10,
   "metadata": {},
   "outputs": [
    {
     "name": "stdout",
     "output_type": "stream",
     "text": [
      "The length of Apple is 5\n",
      "The length of Orange is 6\n",
      "The length of Guava is 5\n",
      "The length of Pear is 4\n",
      "The length of Grapes is 6\n",
      "The length of Mango is 5\n",
      "The length of Watermelon is 10\n"
     ]
    }
   ],
   "source": [
    "# to find length of any string, we can use len(). \n",
    "# Now, lets try to find and print length of all entries in our fruits list\n",
    "fruits = [\"Apple\",\"Orange\",\"Guava\",\"Pear\",\"Grapes\",\"Mango\",\"Watermelon\"]\n",
    "for i in fruits:\n",
    "    print(f\"The length of {i} is {len(i)}\")"
   ]
  },
  {
   "cell_type": "code",
   "execution_count": 11,
   "metadata": {},
   "outputs": [
    {
     "name": "stdout",
     "output_type": "stream",
     "text": [
      "[1, 2, 3, 4, 5, 6, 7, 8, 9, 10]\n"
     ]
    }
   ],
   "source": [
    "# Another example: lets try to add 10 numbers in a list using for loop\n",
    "my_list = []             #We define an empty list for future use.\n",
    "for i in range(1,11):    #Notice, I started from 1 and went until 11 so that loop goes from 1 to 10. \n",
    "    my_list.append(i)    #We saw in past the append function. It appends the value of i in my_list.\n",
    "\n",
    "print(my_list)"
   ]
  },
  {
   "cell_type": "code",
   "execution_count": 12,
   "metadata": {},
   "outputs": [
    {
     "name": "stdout",
     "output_type": "stream",
     "text": [
      "original list was  ['Table', 'Chair', '???', '$$', 'Tyre', '^^', 'Pillow']\n",
      "filtered list is  ['Table', 'Chair', 'Tyre', 'Pillow']\n"
     ]
    }
   ],
   "source": [
    "#Example:\n",
    "#Lets say we have a list with some garbage values in them. \n",
    "#We know that garbage values have a length of 3 characters or lower and our required data has minimum 4 characters in it. \n",
    "# Using For loop, we can easily differentiate between actual data and garbage values\n",
    "list1 = [\"Table\",\"Chair\",\"???\",\"$$\",\"Tyre\",\"^^\",\"Pillow\"]\n",
    "filtered_list = []\n",
    "for i in list1:\n",
    "    if(len(i)>3):\n",
    "        filtered_list.append(i)\n",
    "print(\"original list was \",list1)\n",
    "print(\"filtered list is \",filtered_list)"
   ]
  },
  {
   "cell_type": "markdown",
   "metadata": {},
   "source": [
    "### Break\n",
    "* Let's take an example of a list\n",
    "    * my_list = [1,4,3,5,4,5,6,1,4,6,5,3,5,6,7,4,3,1,4,4,5,1,0]\n",
    "* my_list has different numbers as elements. \n",
    "* Now, if we wish to find out if there is any 4 in the list, we will run loop, then check if every element is a 4 or not and even if we find 4 in our second element, we would still find a 4 throughout the list which is not necessary\n",
    "* For that we can use the break keyword. break keyword, as the name suggests, breaks out of the loop if a condition is met. "
   ]
  },
  {
   "cell_type": "markdown",
   "metadata": {},
   "source": [
    "* We'll see it in the example below\n",
    "* First we execute the code without the break command. "
   ]
  },
  {
   "cell_type": "code",
   "execution_count": 13,
   "metadata": {},
   "outputs": [
    {
     "name": "stdout",
     "output_type": "stream",
     "text": [
      "1 is not a 4\n",
      "found a 4\n",
      "3 is not a 4\n",
      "5 is not a 4\n",
      "found a 4\n",
      "5 is not a 4\n",
      "6 is not a 4\n",
      "1 is not a 4\n",
      "found a 4\n",
      "6 is not a 4\n",
      "5 is not a 4\n",
      "3 is not a 4\n",
      "5 is not a 4\n",
      "6 is not a 4\n",
      "7 is not a 4\n",
      "found a 4\n",
      "3 is not a 4\n",
      "1 is not a 4\n",
      "found a 4\n",
      "found a 4\n",
      "5 is not a 4\n",
      "1 is not a 4\n",
      "0 is not a 4\n"
     ]
    }
   ],
   "source": [
    "my_list = [1,4,3,5,4,5,6,1,4,6,5,3,5,6,7,4,3,1,4,4,5,1,0]\n",
    "for i in my_list:\n",
    "    if(i==4):\n",
    "        print(\"found a 4\")\n",
    "    else:\n",
    "        print(f\"{i} is not a 4\")"
   ]
  },
  {
   "cell_type": "markdown",
   "metadata": {},
   "source": [
    "* As you saw, it ran for the complete list. \n",
    "* Lets now find 4 in the list and break wherever we find a 4"
   ]
  },
  {
   "cell_type": "code",
   "execution_count": 14,
   "metadata": {},
   "outputs": [
    {
     "name": "stdout",
     "output_type": "stream",
     "text": [
      "1 is not a 4\n",
      "found a 4\n"
     ]
    }
   ],
   "source": [
    "my_list = [1,4,3,5,4,5,6,1,4,6,5,3,5,6,7,4,3,1,4,4,5,1,0]\n",
    "for i in my_list:\n",
    "    if(i==4):\n",
    "        print(\"found a 4\")\n",
    "        break\n",
    "    print(f\"{i} is not a 4\")"
   ]
  },
  {
   "cell_type": "markdown",
   "metadata": {},
   "source": [
    "##### So it broke out of the loop on 2nd element and didnt go further. That's the benefit of break."
   ]
  },
  {
   "cell_type": "markdown",
   "metadata": {},
   "source": [
    "# Chapter 22 - Nested For Loops\n",
    "##### Suppose we have two lists. First has the name of all students and second has the name of all subjects that these students want to learn.\n",
    "##### Now, I want to generate all possible combinations of students-subjects, how can I do it? \n",
    "#### For that, we have nested for loops. \n",
    "* As name suggests, Nested loop means one loop inside the other loop. This means when the outer loop runs once, the inner loop runs for the whole range and then outer loop runs again. \n",
    "* Total time for run will depend on both loops\n",
    "* We'll take some examples to see how these work\n",
    "* In first example, lets generate the student-subject combinations for two lists students and subjects:"
   ]
  },
  {
   "cell_type": "code",
   "execution_count": 15,
   "metadata": {},
   "outputs": [
    {
     "name": "stdout",
     "output_type": "stream",
     "text": [
      "Ali-English\n",
      "Ali-Math\n",
      "Ali-Physics\n",
      "Ali-Chemistry\n",
      "Asim-English\n",
      "Asim-Math\n",
      "Asim-Physics\n",
      "Asim-Chemistry\n",
      "Sara-English\n",
      "Sara-Math\n",
      "Sara-Physics\n",
      "Sara-Chemistry\n",
      "Hira-English\n",
      "Hira-Math\n",
      "Hira-Physics\n",
      "Hira-Chemistry\n"
     ]
    }
   ],
   "source": [
    "# Example 1:\n",
    "students = [\"Ali\",\"Asim\",\"Sara\",\"Hira\"]\n",
    "subjects = [\"English\",\"Math\",\"Physics\",\"Chemistry\"]\n",
    "\n",
    "#We take one loop for students and other for subjects\n",
    "for student in students:\n",
    "    for subject in subjects:\n",
    "        print(student+\"-\"+subject) # Notice how print statement is written inside the inner for loop\n",
    "\n",
    "        \n",
    "#Explanations on why is it running so? \n",
    "#Lets go to line 6 and see when the for loop runs for the first time, student gets value of Ali i.e. \n",
    "#first element of students list. \n",
    "# now in line 7, another loop starts and subject gets value English. \n",
    "# so the value that gets printed is Ali-English\n",
    "# Now, the loop goes back to line 7 as the subjects list is not finished and subject now gets the value Math. \n",
    "#Note that student still has value Ali since inner loop is not ended yet.\n",
    "# Value printed now is Ali-Math\n",
    "# In the same way the values are printed until Ali-Chemistry, after which the loop exits and goes to parent loop which now gets a new value for student and loop starts again.\n"
   ]
  },
  {
   "cell_type": "markdown",
   "metadata": {},
   "source": [
    "# Challenge Question for Nested for loops. \n",
    "### Brute Force Attack\n",
    "* In a brute force attack basically uses all possible combinations or phrases and hopes that at least one would work.\n",
    "* Lets say we have a 3 digit password and we want to see if we can break the password through nested for loops. \n",
    "* we will use random library to generate password. We haven't studied libraries yet but let's just say they are some python codes that other people have written and packaged so that we can use them without writing the code ourselves. We use import keyword to import a library and then use library functions. "
   ]
  },
  {
   "cell_type": "code",
   "execution_count": 16,
   "metadata": {},
   "outputs": [],
   "source": [
    "#Step 1: generating password\n",
    "#Password has format of 42_92_52 i.e. 3 random numbers concatenated with an underscore.\n",
    "\n",
    "import random  #This command imports random library \n",
    "#Here, we are generating a random number using randint function \n",
    "#and giving it the range in which we need a number to be generated\n",
    "#Note that the password will change everytime you run this cell. So make sure you run it everytime you want a new password.\n",
    "code1 = str(random.randint(10,99))  \n",
    "code2 = str(random.randint(10,99))\n",
    "code3 = str(random.randint(10,99))\n",
    "#Now Combining Password \n",
    "password = code1+\"_\"+code2+\"_\"+code3"
   ]
  },
  {
   "cell_type": "code",
   "execution_count": 17,
   "metadata": {},
   "outputs": [
    {
     "name": "stdout",
     "output_type": "stream",
     "text": [
      "Password decoded!. the password is 69_26_21\n"
     ]
    }
   ],
   "source": [
    "#Here we have three loops nested within each other. \n",
    "for cd1 in range(10,99):\n",
    "    for cd2 in range(10,99):\n",
    "        for cd3 in range(10,99):\n",
    "            i = str(cd1)+\"_\"+str(cd2)+\"_\"+str(cd3) #in the innermost loop, we have the string that matches format of password (lets say someone told us the format ;-))\n",
    "            if(i==password): #If we get the password right? \n",
    "                print(f\"Password decoded!. the password is {i}\")\n",
    "                break # this break statement helps us break out of the code as soon as we get the password and not continue further."
   ]
  },
  {
   "cell_type": "markdown",
   "metadata": {},
   "source": [
    "# Chapter 23 - Getting Information from Users and converting strings and numbers\n",
    "##### To get any data from user, we use input() function. \n",
    "#### Any data, that is taken through input is stored as a string\n",
    "#### The numeric data is then required to be changed into a number explicitly. \n",
    "\n",
    "## Syntax: \n",
    "* The syntax is as follows:\n",
    "        variable_name = input(\"Prompt that is to be shown to user:\")\n",
    "* Input function always returns a string. \n",
    "* The variable name is where you store the input that is given by user. \n",
    "* whatever you wish to prompt goes inside the input parenthesis. \n",
    "* We take an example and get input from user. First  his name and then his age. Then check the type of both variables. "
   ]
  },
  {
   "cell_type": "code",
   "execution_count": 18,
   "metadata": {},
   "outputs": [
    {
     "name": "stdout",
     "output_type": "stream",
     "text": [
      "Enter your name : Ahsan\n",
      "Enter your age: 21\n"
     ]
    }
   ],
   "source": [
    "name = input(\"Enter your name : \")\n",
    "age = input(\"Enter your age: \")"
   ]
  },
  {
   "cell_type": "code",
   "execution_count": 23,
   "metadata": {
    "scrolled": true
   },
   "outputs": [
    {
     "name": "stdout",
     "output_type": "stream",
     "text": [
      "Enter your marks: 70\n",
      "Pass\n"
     ]
    }
   ],
   "source": [
    "#you can use input() function directly in an if statement\n",
    "#Note, you cannot save the marks, hence only one if statement is possible.\n",
    "if(int(input(\"Enter your marks: \"))>50):\n",
    "    print(\"Pass\")\n",
    "else:\n",
    "    print(\"Fail\")"
   ]
  },
  {
   "cell_type": "code",
   "execution_count": 19,
   "metadata": {},
   "outputs": [
    {
     "name": "stdout",
     "output_type": "stream",
     "text": [
      "<class 'str'>\n",
      "<class 'str'>\n"
     ]
    }
   ],
   "source": [
    "#checking the types:\n",
    "print(type(name))\n",
    "print(type(age))"
   ]
  },
  {
   "cell_type": "code",
   "execution_count": 22,
   "metadata": {},
   "outputs": [
    {
     "name": "stdout",
     "output_type": "stream",
     "text": [
      "Enter your name : Ahsan\n",
      "Enter your age: 30\n"
     ]
    }
   ],
   "source": [
    "#As you can see both inputs are strings even though age is a numberic number. \n",
    "#So we explicitly convert age into integer values now. \n",
    "name = input(\"Enter your name : \")\n",
    "age = int(input(\"Enter your age: \"))"
   ]
  },
  {
   "cell_type": "code",
   "execution_count": 24,
   "metadata": {},
   "outputs": [
    {
     "name": "stdout",
     "output_type": "stream",
     "text": [
      "<class 'str'>\n",
      "<class 'int'>\n"
     ]
    }
   ],
   "source": [
    "print(type(name))\n",
    "print(type(age))"
   ]
  },
  {
   "cell_type": "markdown",
   "metadata": {},
   "source": [
    "## Type Casting\n",
    "* Converting one data type into another is called type casting\n",
    "* Type casting is used frequently to convert from string to integer or floating point values etc. \n",
    "\n",
    "#### Syntax:\n",
    "* The syntax is normally like follows: \n",
    "        data_type_to_be_converted_to(variable_name or input function)\n",
    "* for example, if I want to convert the variable age into integer, I'll use:\n",
    "        int(age)\n",
    "* similarly, If I want to convert the temperature variable, which is a string, to floating point, I'll use as follows:\n",
    "        float(temperature)\n",
    "\n",
    "        "
   ]
  },
  {
   "cell_type": "code",
   "execution_count": 25,
   "metadata": {},
   "outputs": [
    {
     "name": "stdout",
     "output_type": "stream",
     "text": [
      "Before converting, type of age is:  <class 'str'>\n",
      "Before converting, type of temperature is:  <class 'str'>\n",
      "After converting to int, type of age is:  <class 'int'>\n",
      "After converting to float, type of temperature is:  <class 'float'>\n"
     ]
    }
   ],
   "source": [
    "#Example:\n",
    "age = \"21\"\n",
    "temperature = \"31.5\"\n",
    "\n",
    "print(\"Before converting, type of age is: \",type(age))\n",
    "print(\"Before converting, type of temperature is: \",type(temperature))\n",
    "print(\"After converting to int, type of age is: \",type(int(age)))\n",
    "print(\"After converting to float, type of temperature is: \",type(float(temperature)))\n"
   ]
  },
  {
   "cell_type": "markdown",
   "metadata": {},
   "source": [
    "# Chapter 24 - Changing Case\n",
    "##### Often, you need to change case of a string i.e. convert complete string to upper case, or lower case or title, i.e. only the first character in upper case. \n",
    "##### We can use inbuilt functions of .lower(), .upper() and .title() with strings to convert them to respective cases. Title case  converts strings like \"HELLO\" to \"Hello\". \n",
    "\n",
    "#### Why do we need it???\n",
    "* One reason is string matching. When you take input from user, you cannot bound them to use lower or upper texts and they will use every kind of texts. So if you are matching string, you will face issues if you dont convert their cases. \n",
    "\n",
    "## Syntax: \n",
    "* Suppose you have an input string name. \n",
    "* To convert name into lower,upper or title cases, you do it like following:\n",
    "        name = name.lower()\n",
    "        name = name.upper()\n",
    "        name = name.title()\n"
   ]
  },
  {
   "cell_type": "code",
   "execution_count": 26,
   "metadata": {},
   "outputs": [
    {
     "name": "stdout",
     "output_type": "stream",
     "text": [
      "Title:  Ahsan Farooqui\n",
      "Lower case:  ahsan farooqui\n",
      "Upper case:  AHSAN FAROOQUI\n"
     ]
    }
   ],
   "source": [
    "name = \"AhSaN FaRoOqUi\"\n",
    "\n",
    "print(\"Title: \",name.title())\n",
    "print(\"Lower case: \",name.lower())\n",
    "print(\"Upper case: \",name.upper())"
   ]
  },
  {
   "cell_type": "code",
   "execution_count": 27,
   "metadata": {},
   "outputs": [
    {
     "name": "stdout",
     "output_type": "stream",
     "text": [
      "Enter a fruit name: Mango\n",
      "You guessed the fruit correctly.\n",
      "Enter a fruit name: Water Melon\n",
      "Sorry!\n",
      "Enter a fruit name: Guava\n",
      "You guessed the fruit correctly.\n",
      "Enter a fruit name: peach\n",
      "You guessed the fruit correctly.\n",
      "Enter a fruit name: orange\n",
      "You guessed the fruit correctly.\n",
      "Enter a fruit name: apple\n",
      "Sorry!\n",
      "Enter a fruit name: Man go\n",
      "Sorry!\n",
      "Enter a fruit name: O r a n g e\n",
      "Sorry!\n",
      "Enter a fruit name: p e a c h\n",
      "Sorry!\n",
      "Enter a fruit name: jackfruit\n",
      "Sorry!\n"
     ]
    }
   ],
   "source": [
    "#Example:\n",
    "# Lets define a list of fruits and everytime a user enters a fruit name, it checks whether the fruit name is available or not in the list.\n",
    "\n",
    "fruits = [\"Orange\",\"Mango\",\"Peach\",\"Guava\",\"Watermelon\"]\n",
    "\n",
    "for i in range(10): #Asking user 10 times\n",
    "    user_input = input(\"Enter a fruit name: \")\n",
    "    user_input = user_input.title()\n",
    "    if(user_input in fruits):\n",
    "        print(\"You guessed the fruit correctly.\")\n",
    "    else:\n",
    "        print(\"Sorry!\")"
   ]
  },
  {
   "cell_type": "markdown",
   "metadata": {},
   "source": [
    "## Bonus: What if the user enters water melon instead of watermelon? \n",
    "## Replace function\n",
    "* Clearly, our system will not capture the extra space with the implemenetation above. \n",
    "* But, if we somehow remove the spaces from the input, we may be able to get the output correctly.\n",
    "* To replace anything in a string, we use .replace() function\n",
    "### Syntax:\n",
    "* To use a replace function, we use it as follows:\n",
    "        string_name = string_name.replace(\"character/string to be replaced\",\"character/string to be replaced with\")\n",
    "* for example if I have a string \"opponent\" saved as my_string and I wish to insert a % sign anywhere I find an \"o\" in the string, I can do it like follows:\n",
    "        my_string = my_string.replace(\"o\",\"%\")"
   ]
  },
  {
   "cell_type": "code",
   "execution_count": 31,
   "metadata": {},
   "outputs": [
    {
     "name": "stdout",
     "output_type": "stream",
     "text": [
      "enter a string: The Exam was EaSy if YoU Have Prepared the Quiz and AssignMent Properly\n",
      "the **** was easy if you have prepared the **** and ********* properly\n"
     ]
    }
   ],
   "source": [
    "# Example:\n",
    "#Take a string from user and if the user string has any of the following words, replace them by aesteriks \n",
    "#Words: assignment,quiz,exam\n",
    "\n",
    "user_input = input(\"enter a string: \")\n",
    "user_input = user_input.lower()\n",
    "user_input = user_input.replace(\"assignment\",\"*********\")\n",
    "user_input = user_input.replace(\"quiz\",\"****\")\n",
    "user_input = user_input.replace(\"exam\",\"****\")\n",
    "# You can also use .replace in same line\n",
    "# For example \n",
    "#user_input = user_input.replace(\"assignment\",\"*********\").replace(\"quiz\",\"****\").replace(\"exam\",\"****\")\n",
    "print(user_input)"
   ]
  },
  {
   "cell_type": "code",
   "execution_count": 1,
   "metadata": {},
   "outputs": [
    {
     "name": "stdout",
     "output_type": "stream",
     "text": [
      "Enter a fruit name: Water Melon\n",
      "You guessed the fruit correctly.\n",
      "Enter a fruit name: Wa Te  R  M   e  lo   n\n",
      "You guessed the fruit correctly.\n",
      "Enter a fruit name: P E A C H\n",
      "You guessed the fruit correctly.\n",
      "Enter a fruit name: P            e             a         c      h\n",
      "You guessed the fruit correctly.\n",
      "Enter a fruit name: ORA                N                GE\n",
      "You guessed the fruit correctly.\n",
      "Enter a fruit name: G u a v a\n",
      "You guessed the fruit correctly.\n",
      "Enter a fruit name: M a n g o\n",
      "You guessed the fruit correctly.\n",
      "Enter a fruit name: mango\n",
      "You guessed the fruit correctly.\n",
      "Enter a fruit name: orange\n",
      "You guessed the fruit correctly.\n",
      "Enter a fruit name: guava\n",
      "You guessed the fruit correctly.\n"
     ]
    }
   ],
   "source": [
    "#Example:\n",
    "# Coming back to the fruits problem, now we can simply replace any spaces with a null string. \n",
    "\n",
    "fruits = [\"Orange\",\"Mango\",\"Peach\",\"Guava\",\"Watermelon\"]\n",
    "\n",
    "for i in range(10): #Asking user 10 times\n",
    "    user_input = input(\"Enter a fruit name: \")\n",
    "    user_input = user_input.replace(\" \",\"\") #<--- Here's how I replaced any spaces with null strings\n",
    "    user_input = user_input.title()#<-- Notice I converted the case after replacing the spaces. \n",
    "    if(user_input in fruits):\n",
    "        print(\"You guessed the fruit correctly.\")\n",
    "    else:\n",
    "        print(\"Sorry!\")"
   ]
  },
  {
   "cell_type": "markdown",
   "metadata": {},
   "source": [
    "# Chapter 25 to 28 - Dictionaries\n",
    "##### Previously, we saw lists. They were defined as my_list = [\"apple\",\"orange\",\"avocado\"]. Now, when I need to access any value in the list, we can access it using index numbers i.e. my_list[0] returns apple and so on. \n",
    "##### Sometimes, a list may contain specific information like my_list gets my first name, last name, age, gender and so on. Now, If I want to access the information, I would still have to use 0,1,2 which I may not remember everytime. \n",
    "##### Dictionaries provide you the liberty to set your own index called Keys which you can access. The syntax is below:\n",
    "\n",
    "\n",
    "## Syntax: \n",
    "* A Dictionary is defined as a series of key-value pairs. \n",
    "* They are defined as \n",
    "        my_name = {\"first_name\":\"Ahsan\",\"last_name\":\"Farooqui\",\"age\":29}\n",
    "* notice a dictionary is enclosed in curly brackets (instead of square brackets as in lists)\n",
    "* the first_name,last_name,age are called keys. They are strings most of the time but can be integer values too\n",
    "* Ahsan,Farooqui,29 are the values. They may be strings, integers, floating point numbers or any other values\n",
    "* Interestingly, the values can be lists too! We'll see some examples. \n",
    "* the key and value are separated by a colon sign. And after each key:value pair, we have a comma, followed by other pairs\n",
    "* to access a particular key, we can access it like my_name[\"first_name\"] or my_name[\"age\"] etc. "
   ]
  },
  {
   "cell_type": "code",
   "execution_count": 5,
   "metadata": {},
   "outputs": [],
   "source": [
    "#Example1:\n",
    "my_list = {\"first_name\":\"John\",\"last_name\":\"Doe\",\"age\":38,\"score\":45.5}"
   ]
  },
  {
   "cell_type": "code",
   "execution_count": 8,
   "metadata": {},
   "outputs": [
    {
     "name": "stdout",
     "output_type": "stream",
     "text": [
      "John\n",
      "Doe\n",
      "38\n",
      "45.5\n"
     ]
    }
   ],
   "source": [
    "print(my_list[\"first_name\"])\n",
    "print(my_list[\"last_name\"])\n",
    "print(my_list[\"age\"])\n",
    "print(my_list[\"score\"])"
   ]
  },
  {
   "cell_type": "code",
   "execution_count": 17,
   "metadata": {},
   "outputs": [],
   "source": [
    "#Example2: We now define a dictionary that has keys countries, cities and population\n",
    "# but instead of having one value, we have a list instead.\n",
    "# lets see how we can now print values\n",
    "# for this particular example, I used the same sequence i.e. first element of all lists relate to jordan and so on.\n",
    "collections = {\"countries\":[\"jordan\",\"syria\",\"china\",\"usa\"],\n",
    "               \"cities\":[\"Amman\",\"Damascus\",\"Beijing\",\"Washington D.C\"],\n",
    "              \"population\":[\"9.956M\",\"16.91M\",\"1.39B\",\"328.2M\"]}"
   ]
  },
  {
   "cell_type": "code",
   "execution_count": 19,
   "metadata": {},
   "outputs": [
    {
     "name": "stdout",
     "output_type": "stream",
     "text": [
      "['jordan', 'syria', 'china', 'usa']\n",
      "['Amman', 'Damascus', 'Beijing', 'Washington D.C']\n",
      "['9.956M', '16.91M', '1.39B', '328.2M']\n"
     ]
    }
   ],
   "source": [
    "#Printing all countries\n",
    "print(collections[\"countries\"]) \n",
    "#Printing all cities\n",
    "print(collections[\"cities\"]) \n",
    "#Printing all popullations\n",
    "print(collections[\"population\"]) \n"
   ]
  },
  {
   "cell_type": "code",
   "execution_count": 22,
   "metadata": {},
   "outputs": [
    {
     "name": "stdout",
     "output_type": "stream",
     "text": [
      "jordan\n",
      "Amman\n",
      "9.956M\n"
     ]
    }
   ],
   "source": [
    "#Now, that the list is accessed, we can access any element in that list using same list referencing i.e. 0,1,2 etc. \n",
    "#Lets access first element of all lists\n",
    "\n",
    "print(collections[\"countries\"][0])\n",
    "print(collections[\"cities\"][0])\n",
    "print(collections[\"population\"][0])"
   ]
  },
  {
   "cell_type": "code",
   "execution_count": 27,
   "metadata": {},
   "outputs": [
    {
     "name": "stdout",
     "output_type": "stream",
     "text": [
      "First country name is jordan. Its capital is Amman and has a population of 9.956M\n",
      "First country name is syria. Its capital is Damascus and has a population of 16.91M\n",
      "First country name is china. Its capital is Beijing and has a population of 1.39B\n",
      "First country name is usa. Its capital is Washington D.C and has a population of 328.2M\n"
     ]
    }
   ],
   "source": [
    "#Now, lets create a loop to display all options:\n",
    "for i in range(len(collections[\"countries\"])):\n",
    "    print(f'First country name is {collections[\"countries\"][i]}. Its capital is {collections[\"cities\"][i]} and has a population of {collections[\"population\"][i]}' ) "
   ]
  },
  {
   "cell_type": "markdown",
   "metadata": {},
   "source": [
    "#### Keys can be integers as well. "
   ]
  },
  {
   "cell_type": "code",
   "execution_count": 6,
   "metadata": {},
   "outputs": [
    {
     "name": "stdout",
     "output_type": "stream",
     "text": [
      "the lowest number\n",
      "a dozen\n",
      "a baker's dozen\n",
      "snake eyes\n"
     ]
    }
   ],
   "source": [
    "#Keys can be integer values as well. Lets take an example:\n",
    "\n",
    "things_to_remember = {0:\"the lowest number\",\n",
    "                     12: \"a dozen\",\n",
    "                     13:\"a baker's dozen\",\n",
    "                     11: \"snake eyes\"}\n",
    "\n",
    "print(things_to_remember[0])\n",
    "print(things_to_remember[12])\n",
    "print(things_to_remember[13])\n",
    "print(things_to_remember[11])"
   ]
  },
  {
   "cell_type": "markdown",
   "metadata": {},
   "source": [
    "# Chapter 29/30 - Updating Existing data and Creating new keys.\n",
    "\n",
    "#### Once we have created a dictionary, we can add new keys to the dictionary \n",
    "#### We can also update the information in the existing keys.\n",
    "#### Taking the example of the dictionary created above, let's add two new keys 25 and 50 with information: \"Silver\" and \"Gold\" respectively.\n",
    "#### Also, we will update the information against 0 to \"smallest number\""
   ]
  },
  {
   "cell_type": "code",
   "execution_count": 7,
   "metadata": {},
   "outputs": [],
   "source": [
    "things_to_remember[25] = \"Silver\"\n",
    "things_to_remember[50] = \"Gold\"\n",
    "things_to_remember[0] = \"smallest number\""
   ]
  },
  {
   "cell_type": "code",
   "execution_count": 8,
   "metadata": {},
   "outputs": [
    {
     "data": {
      "text/plain": [
       "{0: 'smallest number',\n",
       " 12: 'a dozen',\n",
       " 13: \"a baker's dozen\",\n",
       " 11: 'snake eyes',\n",
       " 25: 'Silver',\n",
       " 50: 'Gold'}"
      ]
     },
     "execution_count": 8,
     "metadata": {},
     "output_type": "execute_result"
    }
   ],
   "source": [
    "#The updated dictionary now becomes:\n",
    "things_to_remember"
   ]
  },
  {
   "cell_type": "markdown",
   "metadata": {},
   "source": [
    "#### We can delete a key by simply using del keyword. Let's delete the 11 key from things_to_remember\n"
   ]
  },
  {
   "cell_type": "code",
   "execution_count": 9,
   "metadata": {},
   "outputs": [],
   "source": [
    "del things_to_remember[11]"
   ]
  },
  {
   "cell_type": "code",
   "execution_count": 10,
   "metadata": {
    "scrolled": true
   },
   "outputs": [
    {
     "name": "stdout",
     "output_type": "stream",
     "text": [
      "{0: 'smallest number', 12: 'a dozen', 13: \"a baker's dozen\", 25: 'Silver', 50: 'Gold'}\n"
     ]
    }
   ],
   "source": [
    "#Now the dictionary becomes:\n",
    "print(things_to_remember)"
   ]
  },
  {
   "cell_type": "markdown",
   "metadata": {},
   "source": [
    "#### Printing Keys and Values separately and together:\n",
    "* We can access the Keys using .keys() option in dictionary\n",
    "* We can access the values using .values() option in dictionary\n",
    "* We can get all key-value pairs in tuples using .items()"
   ]
  },
  {
   "cell_type": "code",
   "execution_count": 11,
   "metadata": {},
   "outputs": [
    {
     "name": "stdout",
     "output_type": "stream",
     "text": [
      "dict_keys([0, 12, 13, 25, 50])\n",
      "dict_values(['smallest number', 'a dozen', \"a baker's dozen\", 'Silver', 'Gold'])\n",
      "dict_items([(0, 'smallest number'), (12, 'a dozen'), (13, \"a baker's dozen\"), (25, 'Silver'), (50, 'Gold')])\n"
     ]
    }
   ],
   "source": [
    "#Printing Keys and Values separately. \n",
    "print(things_to_remember.keys())\n",
    "print(things_to_remember.values())\n",
    "print(things_to_remember.items())"
   ]
  },
  {
   "cell_type": "markdown",
   "metadata": {},
   "source": [
    "# Chapter 31,32 - Looping through the values and keys\n",
    "\n",
    "#### In a dictionary, we have key-value pairs. We can use the for loop to loop through the values directly or loop through the keys and print values. \n",
    "#### We saw earlier, how we can access keys and values separately. \n",
    "\n",
    "#### Syntax:\n",
    "* We can access dictionary values directly using .values() \n",
    "* So syntax would be:\n",
    "        for each_value in dictionary_name.values(): \n",
    "            print(each_value)\n",
    "* Notice the in keyword basically refers to the collection of values that is coming after it. \n",
    "* We can access key values directly using .keys()\n",
    "* So syntax would be:\n",
    "        for each_key in dictionary_name.keys():\n",
    "            print(each_key)"
   ]
  },
  {
   "cell_type": "code",
   "execution_count": 50,
   "metadata": {},
   "outputs": [
    {
     "name": "stdout",
     "output_type": "stream",
     "text": [
      "Ahsan\n",
      "Farooqui\n",
      "29\n",
      "min value\n",
      "max value\n"
     ]
    }
   ],
   "source": [
    "#Example for values\n",
    "my_list1 = {\"first_name\":\"Ahsan\",\n",
    "          \"last_name\":\"Farooqui\",\n",
    "          \"Age\":29,\n",
    "          0:\"min value\",\n",
    "          100:\"max value\"}\n",
    "for each_value in my_list1.values():\n",
    "    print(each_value)"
   ]
  },
  {
   "cell_type": "code",
   "execution_count": 51,
   "metadata": {},
   "outputs": [
    {
     "name": "stdout",
     "output_type": "stream",
     "text": [
      "first_name\n",
      "last_name\n",
      "Age\n",
      "0\n",
      "100\n"
     ]
    }
   ],
   "source": [
    "#Example for keys\n",
    "for each_key in my_list1.keys():\n",
    "    print(each_key)"
   ]
  },
  {
   "cell_type": "markdown",
   "metadata": {},
   "source": [
    "# Chapter 33 - Looping through key-value pair\n",
    "\n",
    "#### So far, we have just iterated through either key or the value separately.\n",
    "#### But we can iterate through both as  well. \n",
    "#### Please find below the syntax for key-value pair\n",
    "\n",
    "#### Syntax:\n",
    "* dictionary_name.items() gives \n",
    "* Syntax would be:\n",
    "        for each_key,each_value in dictionary_name.items(): \n",
    "            print(each_value,each_key)\n",
    "* Notice that after for, we have now entered two variables separated by comma. \n",
    "* The first value will always respond to the key and the second value will always respond to value\n",
    "* Let's see an example for it"
   ]
  },
  {
   "cell_type": "code",
   "execution_count": 1,
   "metadata": {},
   "outputs": [],
   "source": [
    "customer_data = {\"name\":\"John\",\n",
    "                 \"id\":30,\n",
    "                \"joining date\":\"2019-04-01\",\n",
    "                \"total spent\":340000}"
   ]
  },
  {
   "cell_type": "code",
   "execution_count": 12,
   "metadata": {},
   "outputs": [
    {
     "name": "stdout",
     "output_type": "stream",
     "text": [
      "name - John\n",
      "id - 30\n",
      "joining date - 2019-04-01\n",
      "total spent - 340000\n"
     ]
    }
   ],
   "source": [
    "for key,value in customer_data.items():\n",
    "    print(key,\"-\",value)"
   ]
  },
  {
   "cell_type": "markdown",
   "metadata": {},
   "source": [
    "# Chapter 34/35 - Creating a list of dictionaries and accessing data\n",
    "\n",
    "#### In the above customer_data, we see a dictionary that has the customer data in it. \n",
    "#### Now, we may have multiple customers, each customer having their own id. \n",
    "#### If we sort the customers with ids and put them in a list, we can have a list of dictionaries that can contain all users' data.\n",
    "\n",
    "#### Syntax:\n",
    "* Syntax would be:\n",
    "    customers_data = [\n",
    "                        {first user data dictionary},\n",
    "                        {second user data dictionary\n",
    "                     ]\n",
    "* We can access the customers data accordingly. For example for first user, we can access it like \n",
    "           customers_data[0][key_name]\n",
    "* If we dont pass a keyname, it will return the complete dictionary.\n",
    "* Example below:"
   ]
  },
  {
   "cell_type": "code",
   "execution_count": 1,
   "metadata": {},
   "outputs": [],
   "source": [
    "#Let's create a list of dictionaries with 5 customer details\n",
    "\n",
    "customers_data = [\n",
    "    {\"name\":\"John\",\n",
    "    \"date_joined\":\"2019-02-02\",\n",
    "    \"amount_spent\":45000,\n",
    "    \"customer_level\":\"Gold\"}\n",
    "    ,\n",
    "    {\"name\":\"Robin\",\n",
    "    \"date_joined\":\"2018-02-02\",\n",
    "    \"amount_spent\":120000,\n",
    "    \"customer_level\":\"Platinum\"}\n",
    "    ,\n",
    "    \n",
    "    {\"name\":\"Rob\",\n",
    "    \"date_joined\":\"2016-02-02\",\n",
    "    \"amount_spent\":100,\n",
    "    \"customer_level\":\"Rookie\"}  \n",
    "    \n",
    "]"
   ]
  },
  {
   "cell_type": "code",
   "execution_count": 2,
   "metadata": {},
   "outputs": [
    {
     "name": "stdout",
     "output_type": "stream",
     "text": [
      "{   'amount_spent': 45000,\n",
      "    'customer_level': 'Gold',\n",
      "    'date_joined': '2019-02-02',\n",
      "    'name': 'John'}\n"
     ]
    }
   ],
   "source": [
    "import pprint                         #An optional feature just to print dictionary in beautiful way, please comment it if you get library error.\n",
    "pp = pprint.PrettyPrinter(indent=4)   #This is just to print the dictionary in a beautiful way. Totally optional.\n",
    "#Now we print the first customer's complete data\n",
    "pp.pprint(customers_data[0])"
   ]
  },
  {
   "cell_type": "code",
   "execution_count": 3,
   "metadata": {},
   "outputs": [
    {
     "name": "stdout",
     "output_type": "stream",
     "text": [
      "John\n",
      "Rob\n"
     ]
    }
   ],
   "source": [
    "#Now let's get first customer's name only.\n",
    "print(customers_data[0][\"name\"])\n",
    "\n",
    "#How about last customer? \n",
    "print(customers_data[-1][\"name\"]) #Negative indexes corresponds to the values from last. -1 is for the last value in list, -2 is second last and so on. \n",
    "                                  #Negative indexes are helpful when you dont know the actual list length."
   ]
  },
  {
   "cell_type": "code",
   "execution_count": 4,
   "metadata": {},
   "outputs": [
    {
     "name": "stdout",
     "output_type": "stream",
     "text": [
      "John\n",
      "Robin\n",
      "Rob\n"
     ]
    }
   ],
   "source": [
    "#Any ideas on how to get all names?\n",
    "for customer in customers_data: #Each customer gets a dictionary value. \n",
    "    print(customer[\"name\"])     #We can simply print the values in each iteration. \n",
    "#Try to get all information yourself."
   ]
  },
  {
   "cell_type": "markdown",
   "metadata": {},
   "source": [
    "# Chapter 36 - How to append a new dictionary to a list of dictionaries\n",
    "\n",
    "#### Here, we will discuss how to append a new dictionary in the existing list of dictionaries. \n",
    "#### This may occur that a new customer joined and we wish to append their data in the list.\n",
    "\n",
    "#### Syntax:\n",
    "* Create the new user's dictionary first separately.\n",
    "        new_customer = {'amount_spent': 0,\n",
    "        'customer_level': 'Newbie',\n",
    "        'date_joined': '2020-05-20',\n",
    "        'name': 'James'}\n",
    "    \n",
    "* Protip: if you wish to append the list's index as id in the new customer's data, you can do it like following:\n",
    "    * First get the length of list by len(list_name). \n",
    "    * The length of the list is given by the total number of elements while the index of list go from 0 to one less than length of list. \n",
    "    * So the length of a list gives us the next index value and we can simply use it as an id.\n",
    "    * In our example, since we are not appending customer id in the data, we can ignore it.\n",
    "    \n",
    "* Once we have the dictionary created, we can simply use the list's append function to append the new value.\n",
    "        list_name.append(new_customer)"
   ]
  },
  {
   "cell_type": "code",
   "execution_count": 7,
   "metadata": {},
   "outputs": [],
   "source": [
    "#Example:\n",
    "#Defining the new customer's data:\n",
    "new_customer = {'amount_spent': 0,\n",
    "  'customer_level': 'Newbie',\n",
    "  'date_joined': '2020-05-20',\n",
    "  'name': 'James'}\n",
    "\n",
    "#Now appending it to the original list\n",
    "customers_data.append(new_customer)"
   ]
  },
  {
   "cell_type": "code",
   "execution_count": 11,
   "metadata": {},
   "outputs": [
    {
     "data": {
      "text/plain": [
       "[{'name': 'John',\n",
       "  'date_joined': '2019-02-02',\n",
       "  'amount_spent': 45000,\n",
       "  'customer_level': 'Gold'},\n",
       " {'name': 'Robin',\n",
       "  'date_joined': '2018-02-02',\n",
       "  'amount_spent': 120000,\n",
       "  'customer_level': 'Platinum'},\n",
       " {'name': 'Rob',\n",
       "  'date_joined': '2016-02-02',\n",
       "  'amount_spent': 100,\n",
       "  'customer_level': 'Rookie'},\n",
       " {'amount_spent': 0,\n",
       "  'customer_level': 'Newbie',\n",
       "  'date_joined': '2020-05-20',\n",
       "  'name': 'James'}]"
      ]
     },
     "execution_count": 11,
     "metadata": {},
     "output_type": "execute_result"
    }
   ],
   "source": [
    "#Printing afterwards:\n",
    "customers_data"
   ]
  },
  {
   "cell_type": "markdown",
   "metadata": {},
   "source": [
    "# Chapter 37 - Creating a dictionary that contains lists\n",
    "\n",
    "#### We saw in the last chapter, the examples of a list of dictionaries. That is, a list contains multiple dictionaries.  \n",
    "#### What if we wish to store lists inside dictionary? \n",
    "#### There can be a scenario where you need to have multiple values stored against a key.\n",
    "#### For example, the discount cupons user is authorized to use, or the user's interests. \n",
    "#### For that, we may simply use a list to store data. \n",
    "\n",
    "#### Syntax:\n",
    "* We have following user's data.\n",
    "        new_customer = {'amount_spent': 0,\n",
    "        'customer_level': 'Newbie',\n",
    "        'date_joined': '2020-05-20',\n",
    "        'name': 'James'}\n",
    "    \n",
    "* Now, we wish to add a list to it.\n",
    "* Using the syntax we studied before, we can define a new key. \n",
    "        new_customer[\"discounts\"] = [\"10PercentOn4Items\",\"5percentOn1Item\"]"
   ]
  },
  {
   "cell_type": "code",
   "execution_count": 10,
   "metadata": {},
   "outputs": [],
   "source": [
    "new_customer = {'amount_spent': 0,\n",
    "        'customer_level': 'Newbie',\n",
    "        'date_joined': '2020-05-20',\n",
    "        'name': 'James'}\n",
    "\n",
    "new_customer[\"discounts\"] = [\"10PercentOn4Items\",\"5percentOn1Item\"]"
   ]
  },
  {
   "cell_type": "code",
   "execution_count": 11,
   "metadata": {},
   "outputs": [
    {
     "data": {
      "text/plain": [
       "{'amount_spent': 0,\n",
       " 'customer_level': 'Newbie',\n",
       " 'date_joined': '2020-05-20',\n",
       " 'name': 'James',\n",
       " 'discounts': ['10PercentOn4Items', '5percentOn1Item']}"
      ]
     },
     "execution_count": 11,
     "metadata": {},
     "output_type": "execute_result"
    }
   ],
   "source": [
    "new_customer"
   ]
  },
  {
   "cell_type": "markdown",
   "metadata": {},
   "source": [
    "# Chapter 38 - How to get information from a list in dictionary"
   ]
  },
  {
   "cell_type": "code",
   "execution_count": 12,
   "metadata": {},
   "outputs": [],
   "source": [
    "#From previous example, lets take the customer's data\n",
    "new_customer = {'amount_spent': 0,\n",
    "        'customer_level': 'Newbie',\n",
    "        'date_joined': '2020-05-20',\n",
    "        'name': 'James'}\n",
    "\n",
    "new_customer[\"discounts\"] = [\"10PercentOn4Items\",\"5percentOn1Item\"]"
   ]
  },
  {
   "cell_type": "code",
   "execution_count": 13,
   "metadata": {},
   "outputs": [
    {
     "data": {
      "text/plain": [
       "{'amount_spent': 0,\n",
       " 'customer_level': 'Newbie',\n",
       " 'date_joined': '2020-05-20',\n",
       " 'name': 'James',\n",
       " 'discounts': ['10PercentOn4Items', '5percentOn1Item']}"
      ]
     },
     "execution_count": 13,
     "metadata": {},
     "output_type": "execute_result"
    }
   ],
   "source": [
    "new_customer"
   ]
  },
  {
   "cell_type": "code",
   "execution_count": 14,
   "metadata": {},
   "outputs": [
    {
     "data": {
      "text/plain": [
       "['10PercentOn4Items', '5percentOn1Item']"
      ]
     },
     "execution_count": 14,
     "metadata": {},
     "output_type": "execute_result"
    }
   ],
   "source": [
    "#Let's try to print the discounts list now. \n",
    "new_customer[\"discounts\"]"
   ]
  },
  {
   "cell_type": "code",
   "execution_count": 15,
   "metadata": {},
   "outputs": [],
   "source": [
    "#Let us create a new keyword named discountpercent and put it equal to zero.\n",
    "new_customer[\"discountpercent\"] = 0"
   ]
  },
  {
   "cell_type": "code",
   "execution_count": 21,
   "metadata": {},
   "outputs": [],
   "source": [
    "#Now lets make a for loop and search for discounts and add the percentages accordingly in a new keyword \"discountpercent\"\n",
    "\n",
    "for item in new_customer[\"discounts\"]:\n",
    "    if(item==\"10PercentOn4Items\"):\n",
    "        new_customer[\"discountpercent\"] += 0.10\n",
    "    elif(item==\"5percentOn1Item\"):\n",
    "        new_customer[\"discountpercent\"] +=0.05\n",
    "    else:\n",
    "        new_customer[\"discountpercent\"]+=0"
   ]
  },
  {
   "cell_type": "code",
   "execution_count": 19,
   "metadata": {},
   "outputs": [
    {
     "data": {
      "text/plain": [
       "{'amount_spent': 0,\n",
       " 'customer_level': 'Newbie',\n",
       " 'date_joined': '2020-05-20',\n",
       " 'name': 'James',\n",
       " 'discounts': ['10PercentOn4Items', '5percentOn1Item'],\n",
       " 'discountpercent': 0.15000000000000002}"
      ]
     },
     "execution_count": 19,
     "metadata": {},
     "output_type": "execute_result"
    }
   ],
   "source": [
    "#So now the new dictionary becomes:\n",
    "new_customer"
   ]
  },
  {
   "cell_type": "markdown",
   "metadata": {},
   "source": [
    "# Chapter 39 - Creating a dictionary that contains dictionaries\n",
    "\n",
    "#### We saw examples of lists carrying dictionaries previously. \n",
    "#### The problem with lists containing dictionaries is that we are strictly using the list indexes to access data. \n",
    "#### What if we are to access the dictionary with a custom name? We can define a dictionary that contains dictionaries.\n",
    "#### Each keyword can be customer's name or any identity and the data can contain a complete dictionary\n",
    "#### Let us modify the previously used list of dictionaries and convert it into a dictionary of dictionaries. \n"
   ]
  },
  {
   "cell_type": "code",
   "execution_count": 1,
   "metadata": {},
   "outputs": [],
   "source": [
    "# Previously we had the following list:\n",
    "\n",
    "customers_data = [\n",
    "    {\"name\":\"John\",\n",
    "    \"date_joined\":\"2019-02-02\",\n",
    "    \"amount_spent\":45000,\n",
    "    \"customer_level\":\"Gold\"}\n",
    "    ,\n",
    "    {\"name\":\"Robin\",\n",
    "    \"date_joined\":\"2018-02-02\",\n",
    "    \"amount_spent\":120000,\n",
    "    \"customer_level\":\"Platinum\"}\n",
    "    ,\n",
    "    \n",
    "    {\"name\":\"Rob\",\n",
    "    \"date_joined\":\"2016-02-02\",\n",
    "    \"amount_spent\":100,\n",
    "    \"customer_level\":\"Rookie\"}  \n",
    "    \n",
    "]"
   ]
  },
  {
   "cell_type": "code",
   "execution_count": 3,
   "metadata": {},
   "outputs": [],
   "source": [
    "# Simply replacing the square brackets [] with {} to convert it into a dictionary:\n",
    "#And we need to give a key name to these values. So lets try to give them the customer's name.\n",
    "\n",
    "customers_data_dict = {\n",
    "    \"John\":{\"name\":\"John\",\n",
    "    \"date_joined\":\"2019-02-02\",\n",
    "    \"amount_spent\":45000,\n",
    "    \"customer_level\":\"Gold\"}\n",
    "    ,\n",
    "    \"Robin\":{\"name\":\"Robin\",\n",
    "    \"date_joined\":\"2018-02-02\",\n",
    "    \"amount_spent\":120000,\n",
    "    \"customer_level\":\"Platinum\"}\n",
    "    ,\n",
    "    \n",
    "    \"Rob\":{\"name\":\"Rob\",\n",
    "    \"date_joined\":\"2016-02-02\",\n",
    "    \"amount_spent\":100,\n",
    "    \"customer_level\":\"Rookie\"}  \n",
    "    \n",
    "}\n"
   ]
  },
  {
   "cell_type": "markdown",
   "metadata": {},
   "source": [
    "# 40 - How to get information out of a dictionary within another dictionary"
   ]
  },
  {
   "cell_type": "code",
   "execution_count": 7,
   "metadata": {},
   "outputs": [
    {
     "data": {
      "text/plain": [
       "{'name': 'John',\n",
       " 'date_joined': '2019-02-02',\n",
       " 'amount_spent': 45000,\n",
       " 'customer_level': 'Gold'}"
      ]
     },
     "execution_count": 7,
     "metadata": {},
     "output_type": "execute_result"
    }
   ],
   "source": [
    "#Now, Let's access John's data\n",
    "customers_data_dict[\"John\"]"
   ]
  },
  {
   "cell_type": "code",
   "execution_count": 8,
   "metadata": {},
   "outputs": [
    {
     "data": {
      "text/plain": [
       "'Gold'"
      ]
     },
     "execution_count": 8,
     "metadata": {},
     "output_type": "execute_result"
    }
   ],
   "source": [
    "#For any specific data from this dictionary, we use another index ahead of the key. \n",
    "customers_data_dict[\"John\"][\"customer_level\"]"
   ]
  }
 ],
 "metadata": {
  "kernelspec": {
   "display_name": "Python 3",
   "language": "python",
   "name": "python3"
  },
  "language_info": {
   "codemirror_mode": {
    "name": "ipython",
    "version": 3
   },
   "file_extension": ".py",
   "mimetype": "text/x-python",
   "name": "python",
   "nbconvert_exporter": "python",
   "pygments_lexer": "ipython3",
   "version": "3.6.6"
  }
 },
 "nbformat": 4,
 "nbformat_minor": 2
}
