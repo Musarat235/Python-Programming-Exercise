{
 "cells": [
  {
   "cell_type": "markdown",
   "metadata": {},
   "source": [
    "# Chapter 41 -  Functions\n",
    "#### Often times, you have to run a set of code more than once to do a specific function\n",
    "#### For example. If you have a set of code that takes input, calculates the sum of the two numbers and prints the sum\n",
    "#### Now, if we want to run it more than once at different parts of our program, we can definitely write all these lines again and again. But that will make our code unnecessarily long and thus harder for us to debug in case of any error.\n",
    "#### Functions are a way to represent a set of line of codes by one name that you can use later. \n",
    "#### So in above example, we can simply create a function called get_sum and write lines of code in there. Now, instead of writing sets of code everywhere, we simply write a small function name. \n",
    "\n",
    "\n",
    "### Syntax:\n",
    "* Function is defined as follows:\n",
    "            def function_name(arguments):\n",
    "                write commands indented\n",
    "                this is second command\n",
    "                return is optional keyword that is used at the end to return results\n",
    "            And this is the regular code outside function\n",
    "            \n",
    "#### Function Syntax discussion:\n",
    "* The keyword def is used to define a funciton\n",
    "* The def keyword is always followed by a function name, which is followed by parenthesis. Notice there is a colon at the end of first line. \n",
    "* All commands inside function must be indented by 1 tab. Just as we did for For loop.\n",
    "* The \"return\" is a keyword that we'll discuss later.\n",
    "                "
   ]
  },
  {
   "cell_type": "code",
   "execution_count": 182,
   "metadata": {},
   "outputs": [
    {
     "name": "stdout",
     "output_type": "stream",
     "text": [
      "Please enter first number: 12\n",
      "Please enter second number: 22\n",
      "The sum of numbers 12 and 22 is 34 \n"
     ]
    }
   ],
   "source": [
    "#Example: \n",
    "#Let's take the above example and write code for it first:\n",
    "\n",
    "# Taking input from user:\n",
    "number1 = int(input(\"Please enter first number: \"))\n",
    "number2 = int(input(\"Please enter second number: \"))\n",
    "print(f\"The sum of numbers {number1} and {number2} is {number1+number2} \")"
   ]
  },
  {
   "cell_type": "code",
   "execution_count": 183,
   "metadata": {},
   "outputs": [],
   "source": [
    "# Lets now covert the above code into a function\n",
    "def get_sum(): #Notice I have not added anything in parenthesis. We'lll discuss it later\n",
    "    number1 = int(input(\"Please enter first number: \"))\n",
    "    number2 = int(input(\"Please enter second number: \"))\n",
    "    print(f\"The sum of numbers {number1} and {number2} is {number1+number2} \")\n",
    "    "
   ]
  },
  {
   "cell_type": "code",
   "execution_count": 184,
   "metadata": {},
   "outputs": [
    {
     "name": "stdout",
     "output_type": "stream",
     "text": [
      "Please enter first number: 12\n",
      "Please enter second number: 22\n",
      "The sum of numbers 12 and 22 is 34 \n"
     ]
    }
   ],
   "source": [
    "# To call a function, we write its name followed by the parenthesis\n",
    "get_sum()"
   ]
  },
  {
   "cell_type": "markdown",
   "metadata": {},
   "source": [
    "# Chapter 42 , 43 and 44 - Passing value to Functions\n",
    "\n",
    "* Previously, we were taking input from user inside function\n",
    "* Lets say that instead of getting input from the user, we wish to find sum of two numbers that can change based on the variable values\n",
    "* So now, we wish the pass on the value of number 1 and number 2 when we call the function so that we dont have to put the data explicitly inside. \n",
    "* We can do it using passing value in parenthesis that follows function  name.\n",
    "\n",
    "### Syntax: \n",
    "    def function_name(value_to_be_passed_1,value_to_be_passed_2):\n",
    "        sum = value_to_be_passed_1 + value_to_be_passed_2\n",
    "\n",
    "\n",
    "\n",
    "\n",
    "\n",
    "\n",
    "\n"
   ]
  },
  {
   "cell_type": "code",
   "execution_count": 185,
   "metadata": {},
   "outputs": [],
   "source": [
    "# Example:\n",
    "def get_sum(number1,number2):\n",
    "    print(f\"The sum of numbers {number1} and {number2} is {number1+number2} \")\n"
   ]
  },
  {
   "cell_type": "code",
   "execution_count": 186,
   "metadata": {},
   "outputs": [
    {
     "name": "stdout",
     "output_type": "stream",
     "text": [
      "The sum of numbers 2 and 1 is 3 \n"
     ]
    }
   ],
   "source": [
    "#Now, calling function and passing the values:\n",
    "get_sum(2,1)"
   ]
  },
  {
   "cell_type": "markdown",
   "metadata": {},
   "source": [
    "### Sequence of parameters matter! \n",
    "* Notice the name that is used inside function i.e. number1 and number2 is identical to the parameters passed.\n",
    "* in above function call, get_sum(2,1):  2 corresponds to number1 and 1 corresponds to number2"
   ]
  },
  {
   "cell_type": "code",
   "execution_count": 187,
   "metadata": {},
   "outputs": [],
   "source": [
    "#Example:\n",
    "\n",
    "#Lets try to create a funciton that returns the division of two integers\n",
    "\n",
    "def get_division(number1,number2):\n",
    "    print(number2/number1)"
   ]
  },
  {
   "cell_type": "code",
   "execution_count": 188,
   "metadata": {},
   "outputs": [
    {
     "name": "stdout",
     "output_type": "stream",
     "text": [
      "0.5\n"
     ]
    }
   ],
   "source": [
    "get_division(2,1)"
   ]
  },
  {
   "cell_type": "markdown",
   "metadata": {},
   "source": [
    "#### Notice that in the function call, number1 is equal to 2 and number1 is equal to 1.\n",
    "#### it depends on how we are using these parameters and not sequence. For example, in print function, we use number2/number1.\n",
    "#### so even if we inputted 2 first, the value printed is always number2/number1"
   ]
  },
  {
   "cell_type": "code",
   "execution_count": 189,
   "metadata": {},
   "outputs": [
    {
     "name": "stdout",
     "output_type": "stream",
     "text": [
      "2.0\n"
     ]
    }
   ],
   "source": [
    "get_division(1,2)"
   ]
  },
  {
   "cell_type": "code",
   "execution_count": 190,
   "metadata": {},
   "outputs": [],
   "source": [
    "# Challenge:\n",
    "# Create a program, that prints the table of any number inputted by a user. \n",
    "# User also tells how many rows to print. \n",
    "\n",
    "def create_table(number,rows):\n",
    "    for i in range(1,rows+1):\n",
    "        print(f\"{number} X {i} = {i*number}\")"
   ]
  },
  {
   "cell_type": "code",
   "execution_count": 191,
   "metadata": {},
   "outputs": [
    {
     "name": "stdout",
     "output_type": "stream",
     "text": [
      "4 X 1 = 4\n",
      "4 X 2 = 8\n",
      "4 X 3 = 12\n",
      "4 X 4 = 16\n",
      "4 X 5 = 20\n",
      "4 X 6 = 24\n",
      "4 X 7 = 28\n",
      "4 X 8 = 32\n",
      "4 X 9 = 36\n",
      "4 X 10 = 40\n"
     ]
    }
   ],
   "source": [
    "create_table(4,10)"
   ]
  },
  {
   "cell_type": "code",
   "execution_count": 192,
   "metadata": {},
   "outputs": [],
   "source": [
    "#You can pass annything as argument. \n",
    "# You can pass an array, a character, a string, a number, anything as argument. \n",
    "\n",
    "# Lets try a function that gets marks of 5 exams as a list, name of person, his roll number and his GPA and prints all the information\n",
    "\n",
    "def print_details(marks,name,roll_num,gpa):\n",
    "    print(f\"Name: {name}\\nMarks: {marks}\\nRoll Number: {roll_num}\\nGPA: {gpa}\")"
   ]
  },
  {
   "cell_type": "code",
   "execution_count": 193,
   "metadata": {},
   "outputs": [
    {
     "name": "stdout",
     "output_type": "stream",
     "text": [
      "Name: Ahsan\n",
      "Marks: [2, 3, 4, 5, 6]\n",
      "Roll Number: 24442\n",
      "GPA: 3.11\n"
     ]
    }
   ],
   "source": [
    "print_details([2,3,4,5,6],\"Ahsan\",24442,3.11)"
   ]
  },
  {
   "cell_type": "code",
   "execution_count": 194,
   "metadata": {},
   "outputs": [],
   "source": [
    "#What if you dont pass a value? "
   ]
  },
  {
   "cell_type": "code",
   "execution_count": 195,
   "metadata": {},
   "outputs": [
    {
     "ename": "TypeError",
     "evalue": "print_details() missing 1 required positional argument: 'gpa'",
     "output_type": "error",
     "traceback": [
      "\u001b[1;31m---------------------------------------------------------------------------\u001b[0m",
      "\u001b[1;31mTypeError\u001b[0m                                 Traceback (most recent call last)",
      "\u001b[1;32m<ipython-input-195-abe3a7934fe6>\u001b[0m in \u001b[0;36m<module>\u001b[1;34m\u001b[0m\n\u001b[0;32m      1\u001b[0m \u001b[1;31m#Here I have removed GPA value and it gave me an error.\u001b[0m\u001b[1;33m\u001b[0m\u001b[1;33m\u001b[0m\u001b[0m\n\u001b[1;32m----> 2\u001b[1;33m \u001b[0mprint_details\u001b[0m\u001b[1;33m(\u001b[0m\u001b[1;33m[\u001b[0m\u001b[1;36m2\u001b[0m\u001b[1;33m,\u001b[0m\u001b[1;36m3\u001b[0m\u001b[1;33m,\u001b[0m\u001b[1;36m4\u001b[0m\u001b[1;33m,\u001b[0m\u001b[1;36m5\u001b[0m\u001b[1;33m,\u001b[0m\u001b[1;36m6\u001b[0m\u001b[1;33m]\u001b[0m\u001b[1;33m,\u001b[0m\u001b[1;34m\"Ahsan\"\u001b[0m\u001b[1;33m,\u001b[0m\u001b[1;36m24442\u001b[0m\u001b[1;33m)\u001b[0m\u001b[1;33m\u001b[0m\u001b[0m\n\u001b[0m",
      "\u001b[1;31mTypeError\u001b[0m: print_details() missing 1 required positional argument: 'gpa'"
     ]
    }
   ],
   "source": [
    "#Here I have removed GPA value and it gave me an error. \n",
    "print_details([2,3,4,5,6],\"Ahsan\",24442)"
   ]
  },
  {
   "cell_type": "code",
   "execution_count": 196,
   "metadata": {},
   "outputs": [
    {
     "name": "stdout",
     "output_type": "stream",
     "text": [
      "Name: Ahsan\n",
      "Marks: 34\n",
      "Roll Number: 122\n",
      "GPA: 3.1\n",
      "\n",
      "\n",
      "Name: 122\n",
      "Marks: 34\n",
      "Roll Number: 3.1\n",
      "GPA: Ahsan\n",
      "\n",
      "\n",
      "Name: ahsan\n",
      "Marks: 34\n",
      "Roll Number: 122\n",
      "GPA: 3.1\n"
     ]
    }
   ],
   "source": [
    "# To overcome this, we can simply add a default value in our function parameters\n",
    "def print_details(marks,name,roll_num = 12345,gpa = 2.00):\n",
    "    print(f\"Name: {name}\\nMarks: {marks}\\nRoll Number: {roll_num}\\nGPA: {gpa}\")\n",
    "    \n",
    "print_details(marks=34,roll_num=122,gpa=3.1,name=\"Ahsan\")\n",
    "print(\"\\n\")\n",
    "print_details(34,122,3.1,\"Ahsan\")\n",
    "print(\"\\n\")\n",
    "print_details(34,\"ahsan\",roll_num=122,gpa=3.1)"
   ]
  },
  {
   "cell_type": "code",
   "execution_count": 197,
   "metadata": {
    "scrolled": true
   },
   "outputs": [
    {
     "name": "stdout",
     "output_type": "stream",
     "text": [
      "Name: Ahsan\n",
      "Marks: [2, 3, 4, 5, 6]\n",
      "Roll Number: 12345\n",
      "GPA: 2.0\n"
     ]
    }
   ],
   "source": [
    "#Now, instead of giving error, it gives out a default value.\n",
    "print_details([2,3,4,5,6],\"Ahsan\")"
   ]
  },
  {
   "cell_type": "code",
   "execution_count": 198,
   "metadata": {},
   "outputs": [
    {
     "name": "stdout",
     "output_type": "stream",
     "text": [
      "Name: Ahsan\n",
      "Marks: [2, 3, 4, 5, 6]\n",
      "Roll Number: 12345\n",
      "GPA: 2.0\n"
     ]
    }
   ],
   "source": [
    "#you can also specify the name of parameter when calling function\n",
    "#this is helpful for the fact that \n",
    "print_details(name=\"Ahsan\",marks=[2,3,4,5,6])"
   ]
  },
  {
   "cell_type": "code",
   "execution_count": 199,
   "metadata": {},
   "outputs": [
    {
     "data": {
      "text/plain": [
       "('marks', 'name', 'roll_num', 'gpa')"
      ]
     },
     "execution_count": 199,
     "metadata": {},
     "output_type": "execute_result"
    }
   ],
   "source": [
    "#TO get any function's parameter names, we can use following command. Replace the print_details with your function name.\n",
    "print_details.__code__.co_varnames"
   ]
  },
  {
   "cell_type": "markdown",
   "metadata": {},
   "source": [
    "# Chapter 45 - Functions: Mixing positional and Keyword Arguments\n"
   ]
  },
  {
   "cell_type": "code",
   "execution_count": 200,
   "metadata": {},
   "outputs": [
    {
     "name": "stdout",
     "output_type": "stream",
     "text": [
      "Name: Ahsan\n",
      "Marks: 34\n",
      "Roll Number: 122\n",
      "GPA: 3.1\n",
      "\n",
      "\n",
      "Name: 122\n",
      "Marks: 34\n",
      "Roll Number: 3.1\n",
      "GPA: Ahsan\n",
      "\n",
      "\n",
      "Name: ahsan\n",
      "Marks: 34\n",
      "Roll Number: 122\n",
      "GPA: 3.1\n"
     ]
    }
   ],
   "source": [
    "def print_details(marks,name,roll_num = 12345,gpa = 2.00):\n",
    "    print(f\"Name: {name}\\nMarks: {marks}\\nRoll Number: {roll_num}\\nGPA: {gpa}\")\n",
    "    \n",
    "print_details(marks=34,roll_num=122,gpa=3.1,name=\"Ahsan\")\n",
    "print(\"\\n\")\n",
    "print_details(34,122,3.1,\"Ahsan\")\n",
    "print(\"\\n\")\n",
    "print_details(34,\"ahsan\",roll_num=122,gpa=3.1)"
   ]
  },
  {
   "cell_type": "markdown",
   "metadata": {},
   "source": [
    "#### Types of Arguments\n",
    "* Consider above examples and the three print statements. In first statement, we specified inside function exactly which argument takes on which value. This gave us liberty to re-arrange the function arguments. These are called keyword arguments. \n",
    "* In the second example, we skipped the keyword and entered the arguments without keywords. Now they became the positional argument. Note that except for marks, which was at its original position, others were passed in wrong arguments and printed wrongly. So for positional arguments, the order is important\n",
    "* In third example, we used both positional and keyword arguments. So maybe if you know the first argument is always the marks and you dont know about others, you can specify keyword and place the value in there. \n"
   ]
  },
  {
   "cell_type": "markdown",
   "metadata": {},
   "source": [
    "# Chapter 46 - Dealing with an unknown number of arguments\n",
    "* Sometimes, we dont know what arguments will be or you may consider them optional.\n",
    "* These arguments, if passed may give out some value but if not, they may not impact the execution of function. \n",
    "* We can add summarize them with passing only one argument name, preceeded by aesteriks\n",
    "\n",
    "### Syntax:\n",
    "        def function_name(winner, score, **other_information)"
   ]
  },
  {
   "cell_type": "code",
   "execution_count": 201,
   "metadata": {},
   "outputs": [],
   "source": [
    "#Example\n",
    "#Lets get a person's profile and print it. Name and age is must while other things he can optionally add. \n",
    "\n",
    "def biodata(name,age,**other_information):\n",
    "    print(\"Name: \",name)\n",
    "    print(\"Age: \",age)\n",
    "    print(other_information)\n",
    "    for key,value in other_information.items():\n",
    "        print(key+\" : \"+str(value))\n",
    "    "
   ]
  },
  {
   "cell_type": "code",
   "execution_count": 202,
   "metadata": {},
   "outputs": [
    {
     "name": "stdout",
     "output_type": "stream",
     "text": [
      "Name:  ahsan\n",
      "Age:  12\n",
      "{'gender': 'male', 'city': 'Islamabad'}\n",
      "gender : male\n",
      "city : Islamabad\n"
     ]
    }
   ],
   "source": [
    "# You can see how the other_information creates a dictionary itself. \n",
    "# You can either use the for loop to display all values one at a time or you can simply print them all by printing the variable \n",
    "biodata(name=\"ahsan\",age=12,gender=\"male\",city=\"Islamabad\")"
   ]
  },
  {
   "cell_type": "markdown",
   "metadata": {},
   "source": [
    "# Chapter 47 & 48 - Passing information back from them and storing them in variables.\n",
    "* Often times, we use functions to perform some calculation that may take plenty of lines. \n",
    "* We previously saw, we can print values after processing inside the function. \n",
    "* But what if we want the calculated values back in our main program for further processing? \n",
    "* Through functions, we can return one or more values that can then be saved in a variable for further processing. \n",
    "* The return values can be integer, string, dictionary, list or even list of list etc. \n",
    "\n",
    "### Syntax:\n",
    "        def sumoflist(listname):\n",
    "            sumofnumber = 0\n",
    "            for i in listname:\n",
    "                sumofnumber+=i\n",
    "            return sumofnumber\n",
    "            \n",
    "            \n",
    "* Here, the return is a keyword, that shows which value to return. You can then print or store the returned value as follows:\n",
    "        listofnumbers = [1,2,3,4,5,6,7,8]\n",
    "        totalsum = sumofnumbers(listofnumbers)\n",
    "        print(totalsum)"
   ]
  },
  {
   "cell_type": "code",
   "execution_count": 203,
   "metadata": {},
   "outputs": [],
   "source": [
    "#Example: Finding sum of lists and returning\n",
    "def sumoflist(listname):\n",
    "    sumofnumber = 0\n",
    "    for i in listname:\n",
    "        sumofnumber+=i\n",
    "    return sumofnumber"
   ]
  },
  {
   "cell_type": "code",
   "execution_count": 204,
   "metadata": {},
   "outputs": [
    {
     "ename": "NameError",
     "evalue": "name 'sumofnumbers' is not defined",
     "output_type": "error",
     "traceback": [
      "\u001b[1;31m---------------------------------------------------------------------------\u001b[0m",
      "\u001b[1;31mNameError\u001b[0m                                 Traceback (most recent call last)",
      "\u001b[1;32m<ipython-input-204-e203b8a5c4ea>\u001b[0m in \u001b[0;36m<module>\u001b[1;34m\u001b[0m\n\u001b[0;32m      1\u001b[0m \u001b[0mlistname\u001b[0m \u001b[1;33m=\u001b[0m \u001b[1;33m[\u001b[0m\u001b[1;36m1\u001b[0m\u001b[1;33m,\u001b[0m\u001b[1;36m2\u001b[0m\u001b[1;33m,\u001b[0m\u001b[1;36m3\u001b[0m\u001b[1;33m,\u001b[0m\u001b[1;36m4\u001b[0m\u001b[1;33m,\u001b[0m\u001b[1;36m5\u001b[0m\u001b[1;33m,\u001b[0m\u001b[1;36m6\u001b[0m\u001b[1;33m,\u001b[0m\u001b[1;36m7\u001b[0m\u001b[1;33m,\u001b[0m\u001b[1;36m8\u001b[0m\u001b[1;33m,\u001b[0m\u001b[1;36m9\u001b[0m\u001b[1;33m,\u001b[0m\u001b[1;36m10\u001b[0m\u001b[1;33m]\u001b[0m\u001b[1;33m\u001b[0m\u001b[0m\n\u001b[1;32m----> 2\u001b[1;33m \u001b[0mtotalsum\u001b[0m \u001b[1;33m=\u001b[0m \u001b[0msumofnumbers\u001b[0m\u001b[1;33m(\u001b[0m\u001b[0mlistname\u001b[0m\u001b[1;33m)\u001b[0m\u001b[1;33m\u001b[0m\u001b[0m\n\u001b[0m\u001b[0;32m      3\u001b[0m \u001b[0mprint\u001b[0m\u001b[1;33m(\u001b[0m\u001b[0mtotalsum\u001b[0m\u001b[1;33m)\u001b[0m\u001b[1;33m\u001b[0m\u001b[0m\n",
      "\u001b[1;31mNameError\u001b[0m: name 'sumofnumbers' is not defined"
     ]
    }
   ],
   "source": [
    "listname = [1,2,3,4,5,6,7,8,9,10]\n",
    "totalsum = sumofnumbers(listname)\n",
    "print(totalsum)"
   ]
  },
  {
   "cell_type": "code",
   "execution_count": 206,
   "metadata": {},
   "outputs": [
    {
     "name": "stdout",
     "output_type": "stream",
     "text": [
      "Enter Cost Price30\n",
      "The saleprice of Rs. 30.0 is Rs. 35.1\n"
     ]
    }
   ],
   "source": [
    "#Example. write a program that takes cost price as argument, calculates 17% tax on it and returns the final sale price. \n",
    "#Then take input from user and return him the value using function call. \n",
    "def salepricecalculator(costprice):\n",
    "    saleprice = costprice + 0.17*costprice\n",
    "    return saleprice\n",
    "\n",
    "costprice = float(input(\"Enter Cost Price\"))\n",
    "print(f\"The saleprice of Rs. {costprice} is Rs. {salepricecalculator(costprice)}\")\n",
    "\n",
    "#Notice in this example, we used the salepricecalculator directly in our print function because it is returning a value that we can directly print. \n",
    "#Here function call acts just like a variable bearing a value calculated. "
   ]
  },
  {
   "cell_type": "code",
   "execution_count": 207,
   "metadata": {},
   "outputs": [
    {
     "name": "stdout",
     "output_type": "stream",
     "text": [
      "10 10\n",
      "10 20\n",
      "10 30\n",
      "10 40\n",
      "10 50\n",
      "10 60\n",
      "10 70\n",
      "10 80\n",
      "10 90\n",
      "10 100\n"
     ]
    }
   ],
   "source": [
    "#Example, Write a program that gets a number and returns a list of top 10 multiples of that number. \n",
    "#Print the list using for loop with number and its multiple value. \n",
    "\n",
    "def top10multiples(value):\n",
    "    multiples = []\n",
    "    for i in range(1,11):\n",
    "        multiples.append(value*i)\n",
    "    return multiples\n",
    "\n",
    "\n",
    "value = 10\n",
    "for i in top10multiples(value):\n",
    "    print(value,i)"
   ]
  },
  {
   "cell_type": "code",
   "execution_count": 208,
   "metadata": {},
   "outputs": [
    {
     "name": "stdout",
     "output_type": "stream",
     "text": [
      "Odd\n"
     ]
    }
   ],
   "source": [
    "#Example, Write a function that returns a boolean value True if the number is even and false otherwise\n",
    "#Then use this as a condition in if-else and print in following format: \n",
    "# Number --> Even or Number --> Odd\n",
    "\n",
    "def evenorodd(value):\n",
    "    if(value%2==0):\n",
    "        return True\n",
    "    else:\n",
    "        return False\n",
    "    \n",
    "if(evenorodd(7)):\n",
    "    print(\"Even\")\n",
    "else:\n",
    "    print(\"Odd\")"
   ]
  },
  {
   "cell_type": "code",
   "execution_count": 209,
   "metadata": {},
   "outputs": [
    {
     "name": "stdout",
     "output_type": "stream",
     "text": [
      "Odd\n"
     ]
    }
   ],
   "source": [
    "#Example, modify above function so thhat now, there is no if-else statement inside the function. \n",
    "\n",
    "def evenorodd(value):\n",
    "    return value%2==0\n",
    "\n",
    "if(evenorodd(7)):\n",
    "    print(\"Even\")\n",
    "else:\n",
    "    print(\"Odd\")"
   ]
  },
  {
   "cell_type": "markdown",
   "metadata": {},
   "source": [
    "# Notice now two things:\n",
    "<ol><li> You can write a command or calculation directly in return without assigning it to a variable </li>\n",
    "    <li>You can pass a function call dirctly into if-else and no need to assign a variable. </li></ol"
   ]
  },
  {
   "cell_type": "markdown",
   "metadata": {},
   "source": [
    "# Returning multiple values back and recieving them.\n",
    "### So far you have noticed that a function can return a value, a string, a boolean operator or a list etc... \n",
    "### What if you wish to return more than one lists? or multiple values? We will see an example of it now. "
   ]
  },
  {
   "cell_type": "code",
   "execution_count": 210,
   "metadata": {},
   "outputs": [],
   "source": [
    "# Get a temperature in degress celcius, convert to fahrenheit and kelvin and return both temperatures. \n",
    "\n",
    "def temp_convert(celcius):\n",
    "    fahrenheit = ((9/5)*celcius) + 32\n",
    "    kelvin = celcius + 273\n",
    "    return fahrenheit,kelvin           #Notice here how I returned both values comma-separated."
   ]
  },
  {
   "cell_type": "code",
   "execution_count": 211,
   "metadata": {},
   "outputs": [
    {
     "name": "stdout",
     "output_type": "stream",
     "text": [
      "113.0\n",
      "318\n"
     ]
    }
   ],
   "source": [
    "#Now, at reading, instead of assigning one variable, I can assign 2 variables and the values will be passed accordingly. \n",
    "# Like in this example f will have fahrenheit's value and k will have kelvin value\n",
    "f,k = temp_convert(45)\n",
    "print(f)\n",
    "print(k)"
   ]
  },
  {
   "cell_type": "code",
   "execution_count": 212,
   "metadata": {},
   "outputs": [],
   "source": [
    "#Example: \n",
    "# modify upper example so that now, the user is in command of which value he needs. He may pass a value conversion_type: K for kelvin and F for fahrenheit. \n",
    "# convrert accordingly. \n",
    "\n",
    "def temp_convert(celcius,conversion_type=\"K\"): #By default we set Kelvin. \n",
    "    if(conversion_type==\"K\"):\n",
    "        return celcius + 273\n",
    "    elif (conversion_type==\"F\"):\n",
    "        return ((9/5)*celcius) + 32\n",
    "    else:\n",
    "        print(\"ERROR! Check conversion Type and retry...\")\n",
    "        "
   ]
  },
  {
   "cell_type": "code",
   "execution_count": 213,
   "metadata": {},
   "outputs": [
    {
     "name": "stdout",
     "output_type": "stream",
     "text": [
      "305\n",
      "305\n",
      "89.6\n",
      "ERROR! Check conversion Type and retry...\n"
     ]
    }
   ],
   "source": [
    "print(temp_convert(32)) #No conversion type passed. \n",
    "print(temp_convert(32,\"K\")) #kelvin\n",
    "print(temp_convert(32,\"F\")) #Fahrenheit\n",
    "temp_convert(32,\"P\") #Any other value"
   ]
  },
  {
   "cell_type": "markdown",
   "metadata": {},
   "source": [
    "# 49 - Local vs. Global Variables\n",
    "\n",
    "* Every variable has a <b>scope</b>\n",
    "* A scope is the area from which a variable is accessible. \n",
    "* Two types of scopes are defined, one is called global scope, other is called local scope\n",
    "* In global scope, the variable is available throughout the file, whereas in local scope, the variable is available within a function or within a certain area etc. \n",
    "* Example:\n",
    "\n",
    "        def some_function():\n",
    "            this_variable = \"Hi\"\n",
    "        print(this_variable) \n",
    "        \n",
    "* In the upper example, this_variable is defined inside the function. Hence it will not be accessible from outside the function and once we execute the print statement, it will generate error \"NameError: name 'this_variable' is not defined\"\n",
    "\n",
    "* However, if we define the variable outside function, then we may be able to access it inside the function as well as outside it. \n",
    "\n",
    "        that_variable = \"\"\n",
    "        def some_function():\n",
    "            that_variable = \"Hello\"\n",
    "        print(that_variable)"
   ]
  },
  {
   "cell_type": "code",
   "execution_count": 214,
   "metadata": {},
   "outputs": [
    {
     "ename": "NameError",
     "evalue": "name 'this_variable' is not defined",
     "output_type": "error",
     "traceback": [
      "\u001b[1;31m---------------------------------------------------------------------------\u001b[0m",
      "\u001b[1;31mNameError\u001b[0m                                 Traceback (most recent call last)",
      "\u001b[1;32m<ipython-input-214-7bbae4edba80>\u001b[0m in \u001b[0;36m<module>\u001b[1;34m\u001b[0m\n\u001b[0;32m      1\u001b[0m \u001b[1;32mdef\u001b[0m \u001b[0msome_function1\u001b[0m\u001b[1;33m(\u001b[0m\u001b[1;33m)\u001b[0m\u001b[1;33m:\u001b[0m\u001b[1;33m\u001b[0m\u001b[0m\n\u001b[0;32m      2\u001b[0m     \u001b[0mthis_variable\u001b[0m \u001b[1;33m=\u001b[0m \u001b[1;34m\"Hi\"\u001b[0m\u001b[1;33m\u001b[0m\u001b[0m\n\u001b[1;32m----> 3\u001b[1;33m \u001b[0mprint\u001b[0m\u001b[1;33m(\u001b[0m\u001b[0mthis_variable\u001b[0m\u001b[1;33m)\u001b[0m\u001b[1;33m\u001b[0m\u001b[0m\n\u001b[0m",
      "\u001b[1;31mNameError\u001b[0m: name 'this_variable' is not defined"
     ]
    }
   ],
   "source": [
    "def some_function1():\n",
    "    this_variable = \"Hi\"\n",
    "print(this_variable)"
   ]
  },
  {
   "cell_type": "code",
   "execution_count": 215,
   "metadata": {},
   "outputs": [
    {
     "name": "stdout",
     "output_type": "stream",
     "text": [
      "from outside:  a$5%5%\n",
      "from inside:  Hello\n",
      "from outside after calling function:  a$5%5%\n"
     ]
    }
   ],
   "source": [
    "that_variable = \"a$5%5%\"\n",
    "def some_function2():\n",
    "    that_variable = \"Hello\"\n",
    "    print(\"from inside: \", that_variable)\n",
    "\n",
    "print(\"from outside: \", that_variable) #It will still give a blank as the function is not called. \n",
    "some_function2()\n",
    "print(\"from outside after calling function: \", that_variable)"
   ]
  },
  {
   "cell_type": "markdown",
   "metadata": {},
   "source": [
    "# Lets discuss output of the function above:\n",
    "\n",
    "* we defined a variable \"that_variable\" outside function. \n",
    "* then we changed its value inside a function and printed it. \n",
    "* outside function, we printed the value thrice. First we printed the value without calling function and as expected, the value was blank. \n",
    "* when we called function, the variable was assigned new value <b>INSIDE THE FUNCTION</b>.\n",
    "* Afterwards, we callde variable from outside again, it was again printing the initial value."
   ]
  },
  {
   "cell_type": "markdown",
   "metadata": {},
   "source": [
    "# 50 - Functions within functions\n",
    "\n",
    "* you can call other functions within one function. \n",
    "* Suppose you wish to do multipl things within a function and you wish to break it into pieces. You can have multiple functions that you can call to do any process. \n",
    "* Example: \n",
    "    * Suppose you wish to create a driver's license function that does following\n",
    "        * takes user's name, age, location,eyesight out of 6 as input\n",
    "        * checks for user's name in a list and validates name from a list of names \n",
    "        * checks for the age bracket and responds accordingly. If the age is less than 18, it returns a false, else it gives true.\n",
    "        * checks location and if it is not pakistan, it rejects application. \n",
    "        * checks if the eyesight is less than 4, it rejects application. \n",
    "        * if all checks are fine, the program prints, \"Congrats! you have successfully applied for license\". Else it prints \"You are not eligible due to following reasons: \" and then it gives a list of reasons that the user is not complaint with."
   ]
  },
  {
   "cell_type": "code",
   "execution_count": 216,
   "metadata": {},
   "outputs": [],
   "source": [
    "# lets create the main function first:\n",
    "\n",
    "def main(username, userage, userlocation,usereyesight):\n",
    "    name_valid = validate_name(username) # We took data from user and passed it to validate_name function that responded with a True/False value which we stored in a name_valid function.\n",
    "    age_valid = validate_age(userage)\n",
    "    location_valid = validate_location(userlocation)\n",
    "    eyesight_valid = validate_eyesight(usereyesight)\n",
    "    print_result([name_valid,age_valid,location_valid,eyesight_valid])\n",
    "    \n",
    "# See how easy our main function has become now. in only 5 lines, we are able to call complete function. You can find definitions of each of these functions below. "
   ]
  },
  {
   "cell_type": "code",
   "execution_count": 217,
   "metadata": {},
   "outputs": [],
   "source": [
    "# See the main function above before looking these functions. \n",
    "\n",
    "def validate_name(username):\n",
    "    valid_names = [\"Ahsan\",\"Ali\",\"Saqib\",\"Dawood\",\"Razzaque\",\"Alina\",\"Ayesha\",\"Hira\"]\n",
    "    if(username in valid_names):\n",
    "        return True\n",
    "    else:\n",
    "        return False\n",
    "    \n",
    "def validate_age(userage):\n",
    "    if(userage>=18):\n",
    "        return True\n",
    "    else:\n",
    "        return False\n",
    "    \n",
    "def validate_location(userlocation):\n",
    "    if((userlocation==\"Pakistan\")| (userlocation==\"PK\")):\n",
    "        return True\n",
    "    else:\n",
    "        return False\n",
    "    \n",
    "def validate_eyesight(usereyesight):\n",
    "    if(usereyesight>=4):\n",
    "        return True\n",
    "    else:\n",
    "        return False\n",
    "\n",
    "def print_result(validate):\n",
    "    lookups = [\"Your Name is Not Valid\",\"Your Age is not Valid\",\"Your Location is not valid\",\"your eyesight is not valid\"]\n",
    "    reasons = [lookups[x[0]] for x in enumerate(validate) if x[1]==False]\n",
    "    if(len(reasons)>0):\n",
    "        print(\"You are not eligible due to following reasons:\")\n",
    "        for x,i in enumerate(reasons):\n",
    "            print(x+1,\"-\",i)\n",
    "    else:\n",
    "        print(\"Congrats! you have successfully applied for license\")"
   ]
  },
  {
   "cell_type": "markdown",
   "metadata": {},
   "source": [
    "### Let's run the main function with values to see the results."
   ]
  },
  {
   "cell_type": "code",
   "execution_count": 218,
   "metadata": {},
   "outputs": [
    {
     "name": "stdout",
     "output_type": "stream",
     "text": [
      "Attempt - 1\n",
      "You are not eligible due to following reasons:\n",
      "1 - Your Name is Not Valid\n",
      "\n",
      "Attempt - 2\n",
      "You are not eligible due to following reasons:\n",
      "1 - Your Age is not Valid\n",
      "2 - Your Location is not valid\n",
      "\n",
      "Attempt - 3\n",
      "Congrats! you have successfully applied for license\n"
     ]
    }
   ],
   "source": [
    "print(\"Attempt - 1\")\n",
    "main(\"Ajaia\",18,\"Pakistan\",5)\n",
    "print(\"\\nAttempt - 2\")\n",
    "main(\"Ahsan\",17,\"India\",5)\n",
    "print(\"\\nAttempt - 3\")\n",
    "main(\"Ahsan\",18,\"PK\",6)"
   ]
  },
  {
   "cell_type": "markdown",
   "metadata": {},
   "source": [
    "# 51,52 - While Loops / Setting a flag\n",
    "\n",
    "* Previously we saw for loops which we have been using alot in our examples. For loop used to have an initial value to start with, and a final value to go to and it used to run for a specific number of times. \n",
    "* Simularly, for loops can run through a list, a dictionary, etc. \n",
    "* If you wanted to end the loop due to some condition, you used break there. \n",
    "* Similarly, to skip an iteration, you used continue function. \n",
    "* While loops are a bit different from For loop. They take in a condition and check that condition to meet no matter how many loops it takes. Once the condition is met, the while loop ends. \n",
    "* This loop is good for the conditions when you dont know exactly how many times the loop would run. \n",
    "* Examples are if you are taking input from user and until user presses a particular button, you keep on taking inputs."
   ]
  },
  {
   "cell_type": "code",
   "execution_count": 219,
   "metadata": {},
   "outputs": [
    {
     "name": "stdout",
     "output_type": "stream",
     "text": [
      "Enter a value\n",
      "\n",
      "Enter a value3\n",
      "3\n",
      "Enter a value4\n",
      "4\n",
      "Enter a value1\n",
      "1\n",
      "Enter a value-1\n",
      "-1\n",
      "Enter a valueq\n",
      "q\n"
     ]
    }
   ],
   "source": [
    "#While Loop Example. \n",
    "\n",
    "#Lets create a loop that takes values from user and prints them until the user presses q button\n",
    "data = \"\"\n",
    "while(data!='q'):\n",
    "    data = input(\"Enter a value\")\n",
    "    print(data)"
   ]
  },
  {
   "cell_type": "code",
   "execution_count": 220,
   "metadata": {},
   "outputs": [
    {
     "name": "stdout",
     "output_type": "stream",
     "text": [
      "Enter marks or -1 to exit: 100\n",
      "Enter marks or -1 to exit: 80\n",
      "Enter marks or -1 to exit: 12\n",
      "Enter marks or -1 to exit: 45\n",
      "Enter marks or -1 to exit: 33\n",
      "Enter marks or -1 to exit: 55\n",
      "Enter marks or -1 to exit: 45\n",
      "Enter marks or -1 to exit: 3\n",
      "Enter marks or -1 to exit: 4\n",
      "Enter marks or -1 to exit: 66\n",
      "Enter marks or -1 to exit: 11\n",
      "Enter marks or -1 to exit: 44\n",
      "Enter marks or -1 to exit: 566\n",
      "Enter marks or -1 to exit: 11\n",
      "Enter marks or -1 to exit: 5\n",
      "Enter marks or -1 to exit: 4\n",
      "Enter marks or -1 to exit: 6\n",
      "Enter marks or -1 to exit: 18\n",
      "Enter marks or -1 to exit: 199\n",
      "Enter marks or -1 to exit: 134\n",
      "Enter marks or -1 to exit: 13\n",
      "Enter marks or -1 to exit: 11\n",
      "Enter marks or -1 to exit: 4\n",
      "Enter marks or -1 to exit: 5\n",
      "Enter marks or -1 to exit: 1\n",
      "Enter marks or -1 to exit: 6\n",
      "Enter marks or -1 to exit: 1\n",
      "Enter marks or -1 to exit: 4\n",
      "Enter marks or -1 to exit: 1\n",
      "Enter marks or -1 to exit: 99\n",
      "Enter marks or -1 to exit: -1\n",
      "52.86666666666667\n"
     ]
    }
   ],
   "source": [
    "#Example\n",
    "#Using above example, now take numeric data for students. if the user inputs -1, break the loop and then print the average of the numbers already \n",
    "\n",
    "marks = [] #initialized a list\n",
    "value = 0 #initialized a value\n",
    "while(value!=-1):\n",
    "    value = int(input(\"Enter marks or -1 to exit: \"))\n",
    "    if(value!=-1):\n",
    "        marks.append(value)\n",
    "average = sum(marks)/len(marks)\n",
    "print(average)"
   ]
  },
  {
   "cell_type": "code",
   "execution_count": 221,
   "metadata": {
    "scrolled": true
   },
   "outputs": [
    {
     "name": "stdout",
     "output_type": "stream",
     "text": [
      "Enter Amount. You currently have $1000: 50\n",
      "Enter Amount. You currently have $950: 25\n",
      "Enter Amount. You currently have $925: 60\n",
      "Enter Amount. You currently have $865: 250\n",
      "Enter Amount. You currently have $615: 430\n",
      "Enter Amount. You currently have $185: 200\n",
      "Inputted amount is more than the balance\n",
      "Enter Amount. You currently have $185: 40\n",
      "Enter Amount. You currently have $145: 60\n",
      "Enter Amount. You currently have $85: 89\n",
      "Inputted amount is more than the balance\n",
      "Enter Amount. You currently have $85: 80\n",
      "Enter Amount. You currently have $5: 5\n",
      "Thank you for transactions, Your available balance is: 0 \n"
     ]
    }
   ],
   "source": [
    "#Example:\n",
    "#A user gets $1000 in his account. unless his account is zero or he presses -1, the session terminates and balance is shown. \n",
    "#It's obvious that if the balance is less than the inputted amount, the amount must be rejected. \n",
    "\n",
    "balance = 1000\n",
    "amount = 0\n",
    "while((balance>0) & (amount!=-1)):\n",
    "    amount = int(input(f\"Enter Amount. You currently have ${balance}: \"))\n",
    "    if(amount<=balance):\n",
    "        if(amount>=0):\n",
    "            balance = balance-amount\n",
    "    else:\n",
    "        print(\"Inputted amount is more than the balance\")    \n",
    "print(f\"Thank you for transactions, Your available balance is: {balance} \")"
   ]
  },
  {
   "cell_type": "markdown",
   "metadata": {},
   "source": [
    "# Advanced topic: Nested While loops\n",
    "* Nested While Loops are "
   ]
  },
  {
   "cell_type": "code",
   "execution_count": null,
   "metadata": {},
   "outputs": [],
   "source": [
    "# further, you can check for a condition without user's input and cancel the loop as well. \n",
    "# For example, Lets create a pattern from stars that looks like following:\n",
    "\n",
    "\n",
    "*\n",
    "* * \n",
    "* * * \n",
    "* * * * \n",
    "* * * \n",
    "* * \n",
    "*\n",
    "\n",
    "# So for this we will break our while loop into two parts\n",
    "# One part will take care of increasing triangle and other will take care of decreasing triangle."
   ]
  },
  {
   "cell_type": "code",
   "execution_count": 236,
   "metadata": {},
   "outputs": [
    {
     "name": "stdout",
     "output_type": "stream",
     "text": [
      "* \n",
      "\n",
      "* * \n",
      "\n",
      "* * * \n",
      "\n",
      "* * * * \n",
      "\n",
      "* * * \n",
      "\n",
      "* * \n",
      "\n",
      "* \n",
      "\n"
     ]
    }
   ],
   "source": [
    "#we create two separate loops for each area. First to tackle the top triangle and second to create bottom triangle.\n",
    "#In each loop, see how nested while loops are entering aesteriks and next lines\n",
    "#Dry run these and you'll have better understanding.\n",
    "\n",
    "row = 0\n",
    "while(row<=3):\n",
    "    count = 0\n",
    "    while(count<=row):\n",
    "        print(\"*\",end=\" \")\n",
    "        count = count + 1\n",
    "    print(\"\\n\")\n",
    "    row = row + 1\n",
    "\n",
    "row = 2\n",
    "while(row>=0):\n",
    "    count = 0\n",
    "    while(count<=row):\n",
    "        print(\"*\",end=\" \")\n",
    "        count = count + 1\n",
    "    print(\"\\n\")\n",
    "    row = row - 1\n"
   ]
  },
  {
   "cell_type": "code",
   "execution_count": null,
   "metadata": {},
   "outputs": [],
   "source": []
  }
 ],
 "metadata": {
  "kernelspec": {
   "display_name": "Python 3",
   "language": "python",
   "name": "python3"
  },
  "language_info": {
   "codemirror_mode": {
    "name": "ipython",
    "version": 3
   },
   "file_extension": ".py",
   "mimetype": "text/x-python",
   "name": "python",
   "nbconvert_exporter": "python",
   "pygments_lexer": "ipython3",
   "version": "3.6.6"
  }
 },
 "nbformat": 4,
 "nbformat_minor": 2
}
